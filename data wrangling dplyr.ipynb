{
 "cells": [
  {
   "cell_type": "markdown",
   "id": "a84a382e-1e60-4f9e-b302-f9ac8e1a6d65",
   "metadata": {},
   "source": [
    "<center>\n",
    "<img src=\"https://cf-courses-data.s3.us.cloud-object-storage.appdomain.cloud/IBMDeveloperSkillsNetwork-RP0321EN-SkillsNetwork/labs/module_1/images/SN_web_lightmode.png\" width=\"300\"> \n",
    "</center>\n"
   ]
  },
  {
   "cell_type": "markdown",
   "id": "72ab3754-e441-4632-a6b4-fe5c59c06680",
   "metadata": {},
   "source": [
    "<h1>Data Wrangling with dplyr</h1>\n",
    "\n",
    "Estimated time needed: **60** minutes\n"
   ]
  },
  {
   "cell_type": "markdown",
   "id": "5467cdd4-9d53-4bf9-89a4-886713d7eca8",
   "metadata": {},
   "source": [
    "## Lab Overview:\n",
    "\n",
    "In this lab, you will focus on wrangling the Seoul bike-sharing demand historical dataset. This is the core dataset to build a predictive model later.\n",
    "\n",
    "It contains the following columns:\n",
    "\n",
    "- `DATE` : Year-month-day\n",
    "- `RENTED BIKE COUNT`- Count of bikes rented at each hour\n",
    "- `HOUR`- Hour of he day\n",
    "- `TEMPERATURE` - Temperature in Celsius\n",
    "- `HUMIDITY` - Unit is `%`\n",
    "- `WINDSPEED` - Unit is `m/s`\n",
    "- `VISIBILITY` - Multiplied by 10m\n",
    "- `DEW POINT TEMERATURE` - The temperature to which the air would have to cool down in order to reach saturation, unit is Celsius\n",
    "- `SOLAR RADIATION` - MJ/m2\n",
    "- `RAINFALL` - mm\n",
    "- `SNOWFALL` - cm\n",
    "- `SEASONS` - Winter, Spring, Summer, Autumn\n",
    "- `HOLIDAY` - Holiday/No holiday\n",
    "- `FUNCTIONAL DAY` - NoFunc(Non Functional Hours), Fun(Functional hours)\n",
    "\n",
    "\n",
    "For this dataset, you will be asked to use `tidyverse` to perform the following data wrangling tasks:\n",
    "\n",
    "- **TASK: Detect and handle missing values**\n",
    "- **TASK: Create indicator (dummy) variables for categorical variables**\n",
    "- **TASK: Normalize data**\n",
    "\n",
    "Let's start!\n"
   ]
  },
  {
   "cell_type": "markdown",
   "id": "aa62f2a1-9215-4af8-b6c8-7ea98e5dd3ff",
   "metadata": {},
   "source": [
    "First import the necessary library for this data wrangling task:\n"
   ]
  },
  {
   "cell_type": "code",
   "execution_count": 1,
   "id": "52f75dd7-1c1b-4598-84e3-daaabe7c2965",
   "metadata": {},
   "outputs": [
    {
     "name": "stderr",
     "output_type": "stream",
     "text": [
      "Loading required package: tidyverse\n",
      "\n",
      "── \u001b[1mAttaching packages\u001b[22m ─────────────────────────────────────── tidyverse 1.3.1 ──\n",
      "\n",
      "\u001b[32m✔\u001b[39m \u001b[34mggplot2\u001b[39m 3.3.6     \u001b[32m✔\u001b[39m \u001b[34mpurrr  \u001b[39m 0.3.4\n",
      "\u001b[32m✔\u001b[39m \u001b[34mtibble \u001b[39m 3.1.7     \u001b[32m✔\u001b[39m \u001b[34mdplyr  \u001b[39m 1.0.9\n",
      "\u001b[32m✔\u001b[39m \u001b[34mtidyr  \u001b[39m 1.2.0     \u001b[32m✔\u001b[39m \u001b[34mstringr\u001b[39m 1.4.0\n",
      "\u001b[32m✔\u001b[39m \u001b[34mreadr  \u001b[39m 2.1.2     \u001b[32m✔\u001b[39m \u001b[34mforcats\u001b[39m 0.5.1\n",
      "\n",
      "── \u001b[1mConflicts\u001b[22m ────────────────────────────────────────── tidyverse_conflicts() ──\n",
      "\u001b[31m✖\u001b[39m \u001b[34mdplyr\u001b[39m::\u001b[32mfilter()\u001b[39m masks \u001b[34mstats\u001b[39m::filter()\n",
      "\u001b[31m✖\u001b[39m \u001b[34mdplyr\u001b[39m::\u001b[32mlag()\u001b[39m    masks \u001b[34mstats\u001b[39m::lag()\n",
      "\n"
     ]
    }
   ],
   "source": [
    "# Check if you need to install the `tidyverse` library\n",
    "require(\"tidyverse\")\n",
    "library(tidyverse)"
   ]
  },
  {
   "cell_type": "markdown",
   "id": "60dc2789-8e8c-42b0-8433-03157410a3b1",
   "metadata": {},
   "source": [
    "Then load the bike-sharing system data from the csv processed in the previous lab:\n"
   ]
  },
  {
   "cell_type": "code",
   "execution_count": 3,
   "id": "42893122-c26b-4152-930d-31d37b7ee8d4",
   "metadata": {},
   "outputs": [
    {
     "name": "stderr",
     "output_type": "stream",
     "text": [
      "\u001b[1mRows: \u001b[22m\u001b[34m8760\u001b[39m \u001b[1mColumns: \u001b[22m\u001b[34m14\u001b[39m\n",
      "\u001b[36m──\u001b[39m \u001b[1mColumn specification\u001b[22m \u001b[36m────────────────────────────────────────────────────────\u001b[39m\n",
      "\u001b[1mDelimiter:\u001b[22m \",\"\n",
      "\u001b[31mchr\u001b[39m  (4): DATE, SEASONS, HOLIDAY, FUNCTIONING_DAY\n",
      "\u001b[32mdbl\u001b[39m (10): RENTED_BIKE_COUNT, HOUR, TEMPERATURE, HUMIDITY, WIND_SPEED, VISIBI...\n",
      "\n",
      "\u001b[36mℹ\u001b[39m Use `spec()` to retrieve the full column specification for this data.\n",
      "\u001b[36mℹ\u001b[39m Specify the column types or set `show_col_types = FALSE` to quiet this message.\n"
     ]
    }
   ],
   "source": [
    "bike_sharing_df <- read_csv(\"raw_seoul_bike_sharing.csv\")"
   ]
  },
  {
   "cell_type": "code",
   "execution_count": null,
   "id": "3d38bd22-8e7b-48d7-81e0-6cfec2fc794f",
   "metadata": {},
   "outputs": [],
   "source": [
    "# Or you may read it from here again\n",
    "# url <- \"https://cf-courses-data.s3.us.cloud-object-storage.appdomain.cloud/IBMDeveloperSkillsNetwork-RP0321EN-SkillsNetwork/labs/datasets/raw_seoul_bike_sharing.csv\"\n",
    "# Notice some column names in the raw datasets are not standalized if you haven't done them properly in the previous lab"
   ]
  },
  {
   "cell_type": "markdown",
   "id": "b70c41e8-1eef-46d8-8434-f8d3742754bd",
   "metadata": {},
   "source": [
    "First take a quick look at the dataset:\n"
   ]
  },
  {
   "cell_type": "code",
   "execution_count": 4,
   "id": "88979dc6-cb7e-43e5-9958-2bef0ba582b8",
   "metadata": {},
   "outputs": [
    {
     "data": {
      "text/plain": [
       "     DATE           RENTED_BIKE_COUNT      HOUR        TEMPERATURE    \n",
       " Length:8760        Min.   :   2.0    Min.   : 0.00   Min.   :-17.80  \n",
       " Class :character   1st Qu.: 214.0    1st Qu.: 5.75   1st Qu.:  3.40  \n",
       " Mode  :character   Median : 542.0    Median :11.50   Median : 13.70  \n",
       "                    Mean   : 729.2    Mean   :11.50   Mean   : 12.87  \n",
       "                    3rd Qu.:1084.0    3rd Qu.:17.25   3rd Qu.: 22.50  \n",
       "                    Max.   :3556.0    Max.   :23.00   Max.   : 39.40  \n",
       "                    NA's   :295                       NA's   :11      \n",
       "    HUMIDITY       WIND_SPEED      VISIBILITY   DEW_POINT_TEMPERATURE\n",
       " Min.   : 0.00   Min.   :0.000   Min.   :  27   Min.   :-30.600      \n",
       " 1st Qu.:42.00   1st Qu.:0.900   1st Qu.: 940   1st Qu.: -4.700      \n",
       " Median :57.00   Median :1.500   Median :1698   Median :  5.100      \n",
       " Mean   :58.23   Mean   :1.725   Mean   :1437   Mean   :  4.074      \n",
       " 3rd Qu.:74.00   3rd Qu.:2.300   3rd Qu.:2000   3rd Qu.: 14.800      \n",
       " Max.   :98.00   Max.   :7.400   Max.   :2000   Max.   : 27.200      \n",
       "                                                                     \n",
       " SOLAR_RADIATION     RAINFALL          SNOWFALL         SEASONS         \n",
       " Min.   :0.0000   Min.   : 0.0000   Min.   :0.00000   Length:8760       \n",
       " 1st Qu.:0.0000   1st Qu.: 0.0000   1st Qu.:0.00000   Class :character  \n",
       " Median :0.0100   Median : 0.0000   Median :0.00000   Mode  :character  \n",
       " Mean   :0.5691   Mean   : 0.1487   Mean   :0.07507                     \n",
       " 3rd Qu.:0.9300   3rd Qu.: 0.0000   3rd Qu.:0.00000                     \n",
       " Max.   :3.5200   Max.   :35.0000   Max.   :8.80000                     \n",
       "                                                                        \n",
       "   HOLIDAY          FUNCTIONING_DAY   \n",
       " Length:8760        Length:8760       \n",
       " Class :character   Class :character  \n",
       " Mode  :character   Mode  :character  \n",
       "                                      \n",
       "                                      \n",
       "                                      \n",
       "                                      "
      ]
     },
     "metadata": {},
     "output_type": "display_data"
    },
    {
     "data": {
      "text/html": [
       "<style>\n",
       ".list-inline {list-style: none; margin:0; padding: 0}\n",
       ".list-inline>li {display: inline-block}\n",
       ".list-inline>li:not(:last-child)::after {content: \"\\00b7\"; padding: 0 .5ex}\n",
       "</style>\n",
       "<ol class=list-inline><li>8760</li><li>14</li></ol>\n"
      ],
      "text/latex": [
       "\\begin{enumerate*}\n",
       "\\item 8760\n",
       "\\item 14\n",
       "\\end{enumerate*}\n"
      ],
      "text/markdown": [
       "1. 8760\n",
       "2. 14\n",
       "\n",
       "\n"
      ],
      "text/plain": [
       "[1] 8760   14"
      ]
     },
     "metadata": {},
     "output_type": "display_data"
    }
   ],
   "source": [
    "summary(bike_sharing_df)\n",
    "dim(bike_sharing_df)"
   ]
  },
  {
   "cell_type": "markdown",
   "id": "d0446933-5649-474f-9343-c98e09d865d5",
   "metadata": {},
   "source": [
    "From the summary, we can observe that:\n",
    "\n",
    "Columns `RENTED_BIKE_COUNT`, `TEMPERATURE`, `HUMIDITY`, `WIND_SPEED`, `VISIBILITY`, `DEW_POINT_TEMPERATURE`, `SOLAR_RADIATION`, `RAINFALL`, `SNOWFALL` are numerical variables/columns and require normalization. Moreover, `RENTED_BIKE_COUNT` and `TEMPERATURE` have some missing values (NA's) that need to be handled properly.\n",
    "\n",
    "`SEASONS`, `HOLIDAY`, `FUNCTIONING_DAY` are categorical variables which need to be converted into indicator columns or dummy variables.\n",
    "Also, `HOUR` is read as a numerical variable but it is in fact a categorical variable with levels ranging from 0 to 23.\n",
    "\n",
    "Now that you have some basic ideas about how to process this bike-sharing demand dataset, let's start working on it!\n"
   ]
  },
  {
   "cell_type": "markdown",
   "id": "4c05a2f1-b2f9-4d05-9f05-29b547cc00ae",
   "metadata": {},
   "source": [
    "# TASK: Detect and handle missing values\n"
   ]
  },
  {
   "cell_type": "markdown",
   "id": "1d4e5187-973d-41e0-bfb7-7262f3e73585",
   "metadata": {},
   "source": [
    " The `RENTED_BIKE_COUNT` column has about 295 missing values, and `TEMPERATURE` has about 11 missing values. Those missing values could be caused by not being recorded, or from malfunctioning bike-sharing systems or weather sensor networks. In any cases, the identified missing values have to be properly handled.\n"
   ]
  },
  {
   "cell_type": "markdown",
   "id": "73593df3-ffee-47cb-9750-8a275761806f",
   "metadata": {},
   "source": [
    "Let's first handle missing values in `RENTED_BIKE_COUNT` column:\n"
   ]
  },
  {
   "cell_type": "markdown",
   "id": "6cfd0d83-8f2b-4e90-9e01-838920568915",
   "metadata": {},
   "source": [
    "Considering `RENTED_BIKE_COUNT` is the response variable/dependent variable, i.e., we want to predict the `RENTED_BIKE_COUNT` using other predictor/independent variables later, and we normally can not allow missing values for the response variable, so missing values for response variable must be either dropped or imputed properly. \n",
    "\n",
    "We can see that `RENTED_BIKE_COUNT` only has about 3% missing values (295 / 8760). As such, you can safely drop any rows whose `RENTED_BIKE_COUNT` has missing values.\n"
   ]
  },
  {
   "cell_type": "markdown",
   "id": "911f3998-4e41-4b41-901e-1d7421fe5a07",
   "metadata": {},
   "source": [
    "_TODO:_ Drop rows with missing values in the `RENTED_BIKE_COUNT` column\n"
   ]
  },
  {
   "cell_type": "code",
   "execution_count": 5,
   "id": "6e62e22c-413b-4a21-825d-ff293b534a1b",
   "metadata": {},
   "outputs": [],
   "source": [
    "# Drop rows with `RENTED_BIKE_COUNT` column == NA\n",
    "seoul_bike_sharing <- bike_sharing_df %>% filter(!is.na(RENTED_BIKE_COUNT))"
   ]
  },
  {
   "cell_type": "code",
   "execution_count": 6,
   "id": "5b5e0089-581b-41b2-89b8-08936778b141",
   "metadata": {},
   "outputs": [
    {
     "data": {
      "text/html": [
       "<style>\n",
       ".list-inline {list-style: none; margin:0; padding: 0}\n",
       ".list-inline>li {display: inline-block}\n",
       ".list-inline>li:not(:last-child)::after {content: \"\\00b7\"; padding: 0 .5ex}\n",
       "</style>\n",
       "<ol class=list-inline><li>8465</li><li>14</li></ol>\n"
      ],
      "text/latex": [
       "\\begin{enumerate*}\n",
       "\\item 8465\n",
       "\\item 14\n",
       "\\end{enumerate*}\n"
      ],
      "text/markdown": [
       "1. 8465\n",
       "2. 14\n",
       "\n",
       "\n"
      ],
      "text/plain": [
       "[1] 8465   14"
      ]
     },
     "metadata": {},
     "output_type": "display_data"
    }
   ],
   "source": [
    "# Print the dataset dimension again after those rows are dropped\n",
    "dim(seoul_bike_sharing)"
   ]
  },
  {
   "cell_type": "markdown",
   "id": "3ed3c2d1-aa38-4265-95f1-0b94433b383d",
   "metadata": {},
   "source": [
    "Now that you have handled  missing values in the `RENTED_BIKE_COUNT` variable, let's continue processing missing values for the `TEMPERATURE` column.\n"
   ]
  },
  {
   "cell_type": "markdown",
   "id": "276326db-95b7-4322-99ec-80e0ca7d5e7a",
   "metadata": {},
   "source": [
    "Unlike the `RENTED_BIKE_COUNT` variable, `TEMPERATURE` is not a response variable. However, it is still an important predictor variable - as you could imagine, there may be a positve correlation between `TEMPERATURE` and `RENTED_BIKE_COUNT`. For example, in winter time with lower temperatures, people may not want to ride a bike, while in summer with nicer weather, they are more likely to rent a bike.\n"
   ]
  },
  {
   "cell_type": "markdown",
   "id": "935cea90-2a1e-49fb-a616-2b5789746978",
   "metadata": {},
   "source": [
    "How do we handle missing values for `TEMPERATURE`? We could simply remove the rows but it's better to impute them because `TEMPERATURE` should be relatively easy and reliable to estimate statistically.\n"
   ]
  },
  {
   "cell_type": "markdown",
   "id": "89b09c28-da58-40c8-860c-4d6ff017194a",
   "metadata": {},
   "source": [
    "Let's first take a look at the missing values in the TEMPERATURE column.\n"
   ]
  },
  {
   "cell_type": "code",
   "execution_count": 7,
   "id": "d8e8d4fb-b02c-494e-8810-e41d6de83e52",
   "metadata": {},
   "outputs": [
    {
     "data": {
      "text/html": [
       "<table class=\"dataframe\">\n",
       "<caption>A spec_tbl_df: 11 × 14</caption>\n",
       "<thead>\n",
       "\t<tr><th scope=col>DATE</th><th scope=col>RENTED_BIKE_COUNT</th><th scope=col>HOUR</th><th scope=col>TEMPERATURE</th><th scope=col>HUMIDITY</th><th scope=col>WIND_SPEED</th><th scope=col>VISIBILITY</th><th scope=col>DEW_POINT_TEMPERATURE</th><th scope=col>SOLAR_RADIATION</th><th scope=col>RAINFALL</th><th scope=col>SNOWFALL</th><th scope=col>SEASONS</th><th scope=col>HOLIDAY</th><th scope=col>FUNCTIONING_DAY</th></tr>\n",
       "\t<tr><th scope=col>&lt;chr&gt;</th><th scope=col>&lt;dbl&gt;</th><th scope=col>&lt;dbl&gt;</th><th scope=col>&lt;dbl&gt;</th><th scope=col>&lt;dbl&gt;</th><th scope=col>&lt;dbl&gt;</th><th scope=col>&lt;dbl&gt;</th><th scope=col>&lt;dbl&gt;</th><th scope=col>&lt;dbl&gt;</th><th scope=col>&lt;dbl&gt;</th><th scope=col>&lt;dbl&gt;</th><th scope=col>&lt;chr&gt;</th><th scope=col>&lt;chr&gt;</th><th scope=col>&lt;chr&gt;</th></tr>\n",
       "</thead>\n",
       "<tbody>\n",
       "\t<tr><td>07/06/2018</td><td>3221</td><td>18</td><td>NA</td><td>57</td><td>2.7</td><td>1217</td><td>16.4</td><td>0.96</td><td>0.0</td><td>0</td><td>Summer</td><td>No Holiday</td><td>Yes</td></tr>\n",
       "\t<tr><td>12/06/2018</td><td>1246</td><td>14</td><td>NA</td><td>45</td><td>2.2</td><td>1961</td><td>12.7</td><td>1.39</td><td>0.0</td><td>0</td><td>Summer</td><td>No Holiday</td><td>Yes</td></tr>\n",
       "\t<tr><td>13/06/2018</td><td>2664</td><td>17</td><td>NA</td><td>57</td><td>3.3</td><td> 919</td><td>16.4</td><td>0.87</td><td>0.0</td><td>0</td><td>Summer</td><td>No Holiday</td><td>Yes</td></tr>\n",
       "\t<tr><td>17/06/2018</td><td>2330</td><td>17</td><td>NA</td><td>58</td><td>3.3</td><td> 865</td><td>16.7</td><td>0.66</td><td>0.0</td><td>0</td><td>Summer</td><td>No Holiday</td><td>Yes</td></tr>\n",
       "\t<tr><td>20/06/2018</td><td>2741</td><td>19</td><td>NA</td><td>61</td><td>2.7</td><td>1236</td><td>17.5</td><td>0.60</td><td>0.0</td><td>0</td><td>Summer</td><td>No Holiday</td><td>Yes</td></tr>\n",
       "\t<tr><td>30/06/2018</td><td>1144</td><td>13</td><td>NA</td><td>87</td><td>1.7</td><td> 390</td><td>23.2</td><td>0.71</td><td>3.5</td><td>0</td><td>Summer</td><td>No Holiday</td><td>Yes</td></tr>\n",
       "\t<tr><td>05/07/2018</td><td> 827</td><td>10</td><td>NA</td><td>75</td><td>1.1</td><td>1028</td><td>20.8</td><td>1.22</td><td>0.0</td><td>0</td><td>Summer</td><td>No Holiday</td><td>Yes</td></tr>\n",
       "\t<tr><td>11/07/2018</td><td> 634</td><td> 9</td><td>NA</td><td>96</td><td>0.6</td><td> 450</td><td>24.9</td><td>0.41</td><td>0.0</td><td>0</td><td>Summer</td><td>No Holiday</td><td>Yes</td></tr>\n",
       "\t<tr><td>12/07/2018</td><td> 593</td><td> 6</td><td>NA</td><td>93</td><td>1.1</td><td> 852</td><td>24.3</td><td>0.01</td><td>0.0</td><td>0</td><td>Summer</td><td>No Holiday</td><td>Yes</td></tr>\n",
       "\t<tr><td>21/07/2018</td><td> 347</td><td> 4</td><td>NA</td><td>77</td><td>1.2</td><td>1203</td><td>21.2</td><td>0.00</td><td>0.0</td><td>0</td><td>Summer</td><td>No Holiday</td><td>Yes</td></tr>\n",
       "\t<tr><td>21/08/2018</td><td>1277</td><td>23</td><td>NA</td><td>75</td><td>0.1</td><td>1892</td><td>20.8</td><td>0.00</td><td>0.0</td><td>0</td><td>Summer</td><td>No Holiday</td><td>Yes</td></tr>\n",
       "</tbody>\n",
       "</table>\n"
      ],
      "text/latex": [
       "A spec\\_tbl\\_df: 11 × 14\n",
       "\\begin{tabular}{llllllllllllll}\n",
       " DATE & RENTED\\_BIKE\\_COUNT & HOUR & TEMPERATURE & HUMIDITY & WIND\\_SPEED & VISIBILITY & DEW\\_POINT\\_TEMPERATURE & SOLAR\\_RADIATION & RAINFALL & SNOWFALL & SEASONS & HOLIDAY & FUNCTIONING\\_DAY\\\\\n",
       " <chr> & <dbl> & <dbl> & <dbl> & <dbl> & <dbl> & <dbl> & <dbl> & <dbl> & <dbl> & <dbl> & <chr> & <chr> & <chr>\\\\\n",
       "\\hline\n",
       "\t 07/06/2018 & 3221 & 18 & NA & 57 & 2.7 & 1217 & 16.4 & 0.96 & 0.0 & 0 & Summer & No Holiday & Yes\\\\\n",
       "\t 12/06/2018 & 1246 & 14 & NA & 45 & 2.2 & 1961 & 12.7 & 1.39 & 0.0 & 0 & Summer & No Holiday & Yes\\\\\n",
       "\t 13/06/2018 & 2664 & 17 & NA & 57 & 3.3 &  919 & 16.4 & 0.87 & 0.0 & 0 & Summer & No Holiday & Yes\\\\\n",
       "\t 17/06/2018 & 2330 & 17 & NA & 58 & 3.3 &  865 & 16.7 & 0.66 & 0.0 & 0 & Summer & No Holiday & Yes\\\\\n",
       "\t 20/06/2018 & 2741 & 19 & NA & 61 & 2.7 & 1236 & 17.5 & 0.60 & 0.0 & 0 & Summer & No Holiday & Yes\\\\\n",
       "\t 30/06/2018 & 1144 & 13 & NA & 87 & 1.7 &  390 & 23.2 & 0.71 & 3.5 & 0 & Summer & No Holiday & Yes\\\\\n",
       "\t 05/07/2018 &  827 & 10 & NA & 75 & 1.1 & 1028 & 20.8 & 1.22 & 0.0 & 0 & Summer & No Holiday & Yes\\\\\n",
       "\t 11/07/2018 &  634 &  9 & NA & 96 & 0.6 &  450 & 24.9 & 0.41 & 0.0 & 0 & Summer & No Holiday & Yes\\\\\n",
       "\t 12/07/2018 &  593 &  6 & NA & 93 & 1.1 &  852 & 24.3 & 0.01 & 0.0 & 0 & Summer & No Holiday & Yes\\\\\n",
       "\t 21/07/2018 &  347 &  4 & NA & 77 & 1.2 & 1203 & 21.2 & 0.00 & 0.0 & 0 & Summer & No Holiday & Yes\\\\\n",
       "\t 21/08/2018 & 1277 & 23 & NA & 75 & 0.1 & 1892 & 20.8 & 0.00 & 0.0 & 0 & Summer & No Holiday & Yes\\\\\n",
       "\\end{tabular}\n"
      ],
      "text/markdown": [
       "\n",
       "A spec_tbl_df: 11 × 14\n",
       "\n",
       "| DATE &lt;chr&gt; | RENTED_BIKE_COUNT &lt;dbl&gt; | HOUR &lt;dbl&gt; | TEMPERATURE &lt;dbl&gt; | HUMIDITY &lt;dbl&gt; | WIND_SPEED &lt;dbl&gt; | VISIBILITY &lt;dbl&gt; | DEW_POINT_TEMPERATURE &lt;dbl&gt; | SOLAR_RADIATION &lt;dbl&gt; | RAINFALL &lt;dbl&gt; | SNOWFALL &lt;dbl&gt; | SEASONS &lt;chr&gt; | HOLIDAY &lt;chr&gt; | FUNCTIONING_DAY &lt;chr&gt; |\n",
       "|---|---|---|---|---|---|---|---|---|---|---|---|---|---|\n",
       "| 07/06/2018 | 3221 | 18 | NA | 57 | 2.7 | 1217 | 16.4 | 0.96 | 0.0 | 0 | Summer | No Holiday | Yes |\n",
       "| 12/06/2018 | 1246 | 14 | NA | 45 | 2.2 | 1961 | 12.7 | 1.39 | 0.0 | 0 | Summer | No Holiday | Yes |\n",
       "| 13/06/2018 | 2664 | 17 | NA | 57 | 3.3 |  919 | 16.4 | 0.87 | 0.0 | 0 | Summer | No Holiday | Yes |\n",
       "| 17/06/2018 | 2330 | 17 | NA | 58 | 3.3 |  865 | 16.7 | 0.66 | 0.0 | 0 | Summer | No Holiday | Yes |\n",
       "| 20/06/2018 | 2741 | 19 | NA | 61 | 2.7 | 1236 | 17.5 | 0.60 | 0.0 | 0 | Summer | No Holiday | Yes |\n",
       "| 30/06/2018 | 1144 | 13 | NA | 87 | 1.7 |  390 | 23.2 | 0.71 | 3.5 | 0 | Summer | No Holiday | Yes |\n",
       "| 05/07/2018 |  827 | 10 | NA | 75 | 1.1 | 1028 | 20.8 | 1.22 | 0.0 | 0 | Summer | No Holiday | Yes |\n",
       "| 11/07/2018 |  634 |  9 | NA | 96 | 0.6 |  450 | 24.9 | 0.41 | 0.0 | 0 | Summer | No Holiday | Yes |\n",
       "| 12/07/2018 |  593 |  6 | NA | 93 | 1.1 |  852 | 24.3 | 0.01 | 0.0 | 0 | Summer | No Holiday | Yes |\n",
       "| 21/07/2018 |  347 |  4 | NA | 77 | 1.2 | 1203 | 21.2 | 0.00 | 0.0 | 0 | Summer | No Holiday | Yes |\n",
       "| 21/08/2018 | 1277 | 23 | NA | 75 | 0.1 | 1892 | 20.8 | 0.00 | 0.0 | 0 | Summer | No Holiday | Yes |\n",
       "\n"
      ],
      "text/plain": [
       "   DATE       RENTED_BIKE_COUNT HOUR TEMPERATURE HUMIDITY WIND_SPEED VISIBILITY\n",
       "1  07/06/2018 3221              18   NA          57       2.7        1217      \n",
       "2  12/06/2018 1246              14   NA          45       2.2        1961      \n",
       "3  13/06/2018 2664              17   NA          57       3.3         919      \n",
       "4  17/06/2018 2330              17   NA          58       3.3         865      \n",
       "5  20/06/2018 2741              19   NA          61       2.7        1236      \n",
       "6  30/06/2018 1144              13   NA          87       1.7         390      \n",
       "7  05/07/2018  827              10   NA          75       1.1        1028      \n",
       "8  11/07/2018  634               9   NA          96       0.6         450      \n",
       "9  12/07/2018  593               6   NA          93       1.1         852      \n",
       "10 21/07/2018  347               4   NA          77       1.2        1203      \n",
       "11 21/08/2018 1277              23   NA          75       0.1        1892      \n",
       "   DEW_POINT_TEMPERATURE SOLAR_RADIATION RAINFALL SNOWFALL SEASONS HOLIDAY   \n",
       "1  16.4                  0.96            0.0      0        Summer  No Holiday\n",
       "2  12.7                  1.39            0.0      0        Summer  No Holiday\n",
       "3  16.4                  0.87            0.0      0        Summer  No Holiday\n",
       "4  16.7                  0.66            0.0      0        Summer  No Holiday\n",
       "5  17.5                  0.60            0.0      0        Summer  No Holiday\n",
       "6  23.2                  0.71            3.5      0        Summer  No Holiday\n",
       "7  20.8                  1.22            0.0      0        Summer  No Holiday\n",
       "8  24.9                  0.41            0.0      0        Summer  No Holiday\n",
       "9  24.3                  0.01            0.0      0        Summer  No Holiday\n",
       "10 21.2                  0.00            0.0      0        Summer  No Holiday\n",
       "11 20.8                  0.00            0.0      0        Summer  No Holiday\n",
       "   FUNCTIONING_DAY\n",
       "1  Yes            \n",
       "2  Yes            \n",
       "3  Yes            \n",
       "4  Yes            \n",
       "5  Yes            \n",
       "6  Yes            \n",
       "7  Yes            \n",
       "8  Yes            \n",
       "9  Yes            \n",
       "10 Yes            \n",
       "11 Yes            "
      ]
     },
     "metadata": {},
     "output_type": "display_data"
    }
   ],
   "source": [
    "bike_sharing_df %>% \n",
    "                filter(is.na(TEMPERATURE))"
   ]
  },
  {
   "cell_type": "markdown",
   "id": "e1b8c7e5-0f04-4099-b90e-40a0ca9fb537",
   "metadata": {},
   "source": [
    "It seems that all of the missing values for `TEMPERATURE` are found in `SEASONS == Summer`, so it is reasonable to impute those missing values with the summer average temperature.\n"
   ]
  },
  {
   "cell_type": "markdown",
   "id": "598856f3-92e7-4ff1-a481-5ee082407833",
   "metadata": {},
   "source": [
    "_TODO:_ Impute missing values for the TEMPERATURE column using its mean value.\n"
   ]
  },
  {
   "cell_type": "code",
   "execution_count": 8,
   "id": "ed6efa28-115b-4675-a8ae-bf31a8e6eb59",
   "metadata": {},
   "outputs": [
    {
     "data": {
      "text/html": [
       "26.5877105143377"
      ],
      "text/latex": [
       "26.5877105143377"
      ],
      "text/markdown": [
       "26.5877105143377"
      ],
      "text/plain": [
       "[1] 26.58771"
      ]
     },
     "metadata": {},
     "output_type": "display_data"
    }
   ],
   "source": [
    "# Calculate the summer average temperature\n",
    "summer_avg_temp <- seoul_bike_sharing %>%\n",
    "  filter(SEASONS == \"Summer\") %>%\n",
    "  select(TEMPERATURE) %>%\n",
    "  summarise(mean(TEMPERATURE, na.rm = TRUE)) %>%\n",
    "  unlist() %>%\n",
    "  unname()\n",
    "summer_avg_temp "
   ]
  },
  {
   "cell_type": "code",
   "execution_count": 9,
   "id": "51abff88-2ad9-4848-aeb5-607ec5db8808",
   "metadata": {},
   "outputs": [],
   "source": [
    "# Impute missing values for TEMPERATURE column with summer average temperature\n",
    "seoul_bike_sharing$TEMPERATURE <- replace_na(seoul_bike_sharing$TEMPERATURE, summer_avg_temp)"
   ]
  },
  {
   "cell_type": "code",
   "execution_count": 10,
   "id": "baf3e462-4b62-421b-bc8a-acc99e8b0378",
   "metadata": {},
   "outputs": [
    {
     "data": {
      "text/html": [
       "<table class=\"dataframe\">\n",
       "<caption>A spec_tbl_df: 0 × 14</caption>\n",
       "<thead>\n",
       "\t<tr><th scope=col>DATE</th><th scope=col>RENTED_BIKE_COUNT</th><th scope=col>HOUR</th><th scope=col>TEMPERATURE</th><th scope=col>HUMIDITY</th><th scope=col>WIND_SPEED</th><th scope=col>VISIBILITY</th><th scope=col>DEW_POINT_TEMPERATURE</th><th scope=col>SOLAR_RADIATION</th><th scope=col>RAINFALL</th><th scope=col>SNOWFALL</th><th scope=col>SEASONS</th><th scope=col>HOLIDAY</th><th scope=col>FUNCTIONING_DAY</th></tr>\n",
       "\t<tr><th scope=col>&lt;chr&gt;</th><th scope=col>&lt;dbl&gt;</th><th scope=col>&lt;dbl&gt;</th><th scope=col>&lt;dbl&gt;</th><th scope=col>&lt;dbl&gt;</th><th scope=col>&lt;dbl&gt;</th><th scope=col>&lt;dbl&gt;</th><th scope=col>&lt;dbl&gt;</th><th scope=col>&lt;dbl&gt;</th><th scope=col>&lt;dbl&gt;</th><th scope=col>&lt;dbl&gt;</th><th scope=col>&lt;chr&gt;</th><th scope=col>&lt;chr&gt;</th><th scope=col>&lt;chr&gt;</th></tr>\n",
       "</thead>\n",
       "<tbody>\n",
       "</tbody>\n",
       "</table>\n"
      ],
      "text/latex": [
       "A spec\\_tbl\\_df: 0 × 14\n",
       "\\begin{tabular}{llllllllllllll}\n",
       " DATE & RENTED\\_BIKE\\_COUNT & HOUR & TEMPERATURE & HUMIDITY & WIND\\_SPEED & VISIBILITY & DEW\\_POINT\\_TEMPERATURE & SOLAR\\_RADIATION & RAINFALL & SNOWFALL & SEASONS & HOLIDAY & FUNCTIONING\\_DAY\\\\\n",
       " <chr> & <dbl> & <dbl> & <dbl> & <dbl> & <dbl> & <dbl> & <dbl> & <dbl> & <dbl> & <dbl> & <chr> & <chr> & <chr>\\\\\n",
       "\\hline\n",
       "\\end{tabular}\n"
      ],
      "text/markdown": [
       "\n",
       "A spec_tbl_df: 0 × 14\n",
       "\n",
       "| DATE &lt;chr&gt; | RENTED_BIKE_COUNT &lt;dbl&gt; | HOUR &lt;dbl&gt; | TEMPERATURE &lt;dbl&gt; | HUMIDITY &lt;dbl&gt; | WIND_SPEED &lt;dbl&gt; | VISIBILITY &lt;dbl&gt; | DEW_POINT_TEMPERATURE &lt;dbl&gt; | SOLAR_RADIATION &lt;dbl&gt; | RAINFALL &lt;dbl&gt; | SNOWFALL &lt;dbl&gt; | SEASONS &lt;chr&gt; | HOLIDAY &lt;chr&gt; | FUNCTIONING_DAY &lt;chr&gt; |\n",
       "|---|---|---|---|---|---|---|---|---|---|---|---|---|---|\n",
       "\n"
      ],
      "text/plain": [
       "     DATE RENTED_BIKE_COUNT HOUR TEMPERATURE HUMIDITY WIND_SPEED VISIBILITY\n",
       "     DEW_POINT_TEMPERATURE SOLAR_RADIATION RAINFALL SNOWFALL SEASONS HOLIDAY\n",
       "     FUNCTIONING_DAY"
      ]
     },
     "metadata": {},
     "output_type": "display_data"
    }
   ],
   "source": [
    "# Print the summary of the dataset again to make sure no missing values in all columns\n",
    "seoul_bike_sharing %>%\n",
    "  filter(is.na(TEMPERATURE))"
   ]
  },
  {
   "cell_type": "code",
   "execution_count": 11,
   "id": "03318e21-e88c-4ea3-80a0-2b1ef111e86c",
   "metadata": {},
   "outputs": [],
   "source": [
    "# Save the dataset as `seoul_bike_sharing.csv`\n",
    "write.csv(seoul_bike_sharing, \"seoul_bike_sharing.csv\")"
   ]
  },
  {
   "cell_type": "markdown",
   "id": "e9a5bb72-ece9-4cbb-ab42-3d52b1526af2",
   "metadata": {},
   "source": [
    "# TASK: Create indicator (dummy) variables for categorical variables\n"
   ]
  },
  {
   "cell_type": "markdown",
   "id": "362ad62d-3bf3-44bd-8fa6-d876f9a9206c",
   "metadata": {},
   "source": [
    "Regression models can not process categorical variables directly, thus we need to convert them into indicator variables. \n"
   ]
  },
  {
   "cell_type": "markdown",
   "id": "ca41d615-34d5-42fd-8130-daa2796c73fd",
   "metadata": {},
   "source": [
    "In the bike-sharing demand dataset, `SEASONS`, `HOLIDAY`, `FUNCTIONING_DAY` are categorical variables. \n",
    "Also, `HOUR` is read as a numerical variable but it is in fact a categorical variable with levels ranged from 0 to 23.\n"
   ]
  },
  {
   "cell_type": "markdown",
   "id": "b8a7a23c-82ef-4746-8b22-5c31b16d95e4",
   "metadata": {},
   "source": [
    "_TODO:_ Convert `HOUR` column from numeric into character first:\n"
   ]
  },
  {
   "cell_type": "code",
   "execution_count": 12,
   "id": "db0fe69d-ef6a-4cdc-90b9-7734bfc1e1e9",
   "metadata": {},
   "outputs": [],
   "source": [
    "# Using mutate() function to convert HOUR column into character type\n",
    "seoul_bike_sharing <- seoul_bike_sharing %>% mutate(HOUR = as.character(HOUR))"
   ]
  },
  {
   "cell_type": "markdown",
   "id": "3099773a-d3af-4a92-aa3d-aea0e5bc02f3",
   "metadata": {},
   "source": [
    "`SEASONS`, `HOLIDAY`, `FUNCTIONING_DAY`,  `HOUR` are all character columns now and are ready to be converted into indicator variables.\n",
    "\n",
    "For example, `SEASONS` has four categorical values: `Spring`, `Summer`, `Autumn`, `Winter`. We thus need to create four indicator/dummy variables `Spring`, `Summer`, `Autumn`, and `Winter` which only have the value 0 or 1.\n",
    "\n",
    "So, given a data entry with the value `Spring` in the `SEASONS` column, the values for the four new columns `Spring`, `Summer`, `Autumn`, and `Winter` will be set to 1 for `Spring` and 0 for the others:\n",
    "\n",
    "|Spring|Summer|Autumn|Winter|\n",
    "|----- |------|------|------|\n",
    "|     1|     0|     0|     0| \n"
   ]
  },
  {
   "cell_type": "markdown",
   "id": "de01eb24-b159-415f-a249-582f0fa05fb0",
   "metadata": {},
   "source": [
    "_TODO:_ Convert `SEASONS`, `HOLIDAY`, `FUNCTIONING_DAY`, and `HOUR` columns into indicator columns.\n",
    "\n",
    "Note that if `FUNCTIONING_DAY` only contains one categorical value after missing values removal, then you don't need to convert it to an indicator column.\n"
   ]
  },
  {
   "cell_type": "code",
   "execution_count": 13,
   "id": "a333431a-7a8e-419b-8c9d-2594ecf216ef",
   "metadata": {},
   "outputs": [],
   "source": [
    "# Convert SEASONS, HOLIDAY, FUNCTIONING_DAY, and HOUR columns into indicator columns.\n",
    "col <- c(\"SEASONS\", \"HOLIDAY\",\"FUNCTIONING_DAY\", \"HOUR\")\n",
    "feature <- function(x) {\n",
    "  for (x in col) {\n",
    "    seoul_bike_sharing <<- seoul_bike_sharing %>%\n",
    "      mutate(dummy = 1) %>%\n",
    "      spread(key = x, value = dummy, fill = 0)\n",
    "  }\n",
    "}\n",
    "feature()"
   ]
  },
  {
   "cell_type": "code",
   "execution_count": 14,
   "id": "1d5e2176-7824-440c-b154-f44d4b5b3fc8",
   "metadata": {},
   "outputs": [
    {
     "data": {
      "text/plain": [
       "     DATE           RENTED_BIKE_COUNT  TEMPERATURE        HUMIDITY    \n",
       " Length:8465        Min.   :   2.0    Min.   :-17.80   Min.   : 0.00  \n",
       " Class :character   1st Qu.: 214.0    1st Qu.:  3.00   1st Qu.:42.00  \n",
       " Mode  :character   Median : 542.0    Median : 13.50   Median :57.00  \n",
       "                    Mean   : 729.2    Mean   : 12.77   Mean   :58.15  \n",
       "                    3rd Qu.:1084.0    3rd Qu.: 22.70   3rd Qu.:74.00  \n",
       "                    Max.   :3556.0    Max.   : 39.40   Max.   :98.00  \n",
       "   WIND_SPEED      VISIBILITY   DEW_POINT_TEMPERATURE SOLAR_RADIATION \n",
       " Min.   :0.000   Min.   :  27   Min.   :-30.600       Min.   :0.0000  \n",
       " 1st Qu.:0.900   1st Qu.: 935   1st Qu.: -5.100       1st Qu.:0.0000  \n",
       " Median :1.500   Median :1690   Median :  4.700       Median :0.0100  \n",
       " Mean   :1.726   Mean   :1434   Mean   :  3.945       Mean   :0.5679  \n",
       " 3rd Qu.:2.300   3rd Qu.:2000   3rd Qu.: 15.200       3rd Qu.:0.9300  \n",
       " Max.   :7.400   Max.   :2000   Max.   : 27.200       Max.   :3.5200  \n",
       "    RAINFALL          SNOWFALL           Autumn           Spring      \n",
       " Min.   : 0.0000   Min.   :0.00000   Min.   :0.0000   Min.   :0.0000  \n",
       " 1st Qu.: 0.0000   1st Qu.:0.00000   1st Qu.:0.0000   1st Qu.:0.0000  \n",
       " Median : 0.0000   Median :0.00000   Median :0.0000   Median :0.0000  \n",
       " Mean   : 0.1491   Mean   :0.07769   Mean   :0.2288   Mean   :0.2552  \n",
       " 3rd Qu.: 0.0000   3rd Qu.:0.00000   3rd Qu.:0.0000   3rd Qu.:1.0000  \n",
       " Max.   :35.0000   Max.   :8.80000   Max.   :1.0000   Max.   :1.0000  \n",
       "     Summer           Winter          Holiday         No Holiday    \n",
       " Min.   :0.0000   Min.   :0.0000   Min.   :0.0000   Min.   :0.0000  \n",
       " 1st Qu.:0.0000   1st Qu.:0.0000   1st Qu.:0.0000   1st Qu.:1.0000  \n",
       " Median :0.0000   Median :0.0000   Median :0.0000   Median :1.0000  \n",
       " Mean   :0.2608   Mean   :0.2552   Mean   :0.0482   Mean   :0.9518  \n",
       " 3rd Qu.:1.0000   3rd Qu.:1.0000   3rd Qu.:0.0000   3rd Qu.:1.0000  \n",
       " Max.   :1.0000   Max.   :1.0000   Max.   :1.0000   Max.   :1.0000  \n",
       "      Yes          0                 1                 10        \n",
       " Min.   :1   Min.   :0.00000   Min.   :0.00000   Min.   :0.0000  \n",
       " 1st Qu.:1   1st Qu.:0.00000   1st Qu.:0.00000   1st Qu.:0.0000  \n",
       " Median :1   Median :0.00000   Median :0.00000   Median :0.0000  \n",
       " Mean   :1   Mean   :0.04158   Mean   :0.04158   Mean   :0.0417  \n",
       " 3rd Qu.:1   3rd Qu.:0.00000   3rd Qu.:0.00000   3rd Qu.:0.0000  \n",
       " Max.   :1   Max.   :1.00000   Max.   :1.00000   Max.   :1.0000  \n",
       "       11               12               13               14        \n",
       " Min.   :0.0000   Min.   :0.0000   Min.   :0.0000   Min.   :0.0000  \n",
       " 1st Qu.:0.0000   1st Qu.:0.0000   1st Qu.:0.0000   1st Qu.:0.0000  \n",
       " Median :0.0000   Median :0.0000   Median :0.0000   Median :0.0000  \n",
       " Mean   :0.0417   Mean   :0.0417   Mean   :0.0417   Mean   :0.0417  \n",
       " 3rd Qu.:0.0000   3rd Qu.:0.0000   3rd Qu.:0.0000   3rd Qu.:0.0000  \n",
       " Max.   :1.0000   Max.   :1.0000   Max.   :1.0000   Max.   :1.0000  \n",
       "       15               16               17               18        \n",
       " Min.   :0.0000   Min.   :0.0000   Min.   :0.0000   Min.   :0.0000  \n",
       " 1st Qu.:0.0000   1st Qu.:0.0000   1st Qu.:0.0000   1st Qu.:0.0000  \n",
       " Median :0.0000   Median :0.0000   Median :0.0000   Median :0.0000  \n",
       " Mean   :0.0417   Mean   :0.0417   Mean   :0.0417   Mean   :0.0417  \n",
       " 3rd Qu.:0.0000   3rd Qu.:0.0000   3rd Qu.:0.0000   3rd Qu.:0.0000  \n",
       " Max.   :1.0000   Max.   :1.0000   Max.   :1.0000   Max.   :1.0000  \n",
       "       19               2                 20               21        \n",
       " Min.   :0.0000   Min.   :0.00000   Min.   :0.0000   Min.   :0.0000  \n",
       " 1st Qu.:0.0000   1st Qu.:0.00000   1st Qu.:0.0000   1st Qu.:0.0000  \n",
       " Median :0.0000   Median :0.00000   Median :0.0000   Median :0.0000  \n",
       " Mean   :0.0417   Mean   :0.04158   Mean   :0.0417   Mean   :0.0417  \n",
       " 3rd Qu.:0.0000   3rd Qu.:0.00000   3rd Qu.:0.0000   3rd Qu.:0.0000  \n",
       " Max.   :1.0000   Max.   :1.00000   Max.   :1.0000   Max.   :1.0000  \n",
       "       22               23               3                 4          \n",
       " Min.   :0.0000   Min.   :0.0000   Min.   :0.00000   Min.   :0.00000  \n",
       " 1st Qu.:0.0000   1st Qu.:0.0000   1st Qu.:0.00000   1st Qu.:0.00000  \n",
       " Median :0.0000   Median :0.0000   Median :0.00000   Median :0.00000  \n",
       " Mean   :0.0417   Mean   :0.0417   Mean   :0.04158   Mean   :0.04158  \n",
       " 3rd Qu.:0.0000   3rd Qu.:0.0000   3rd Qu.:0.00000   3rd Qu.:0.00000  \n",
       " Max.   :1.0000   Max.   :1.0000   Max.   :1.00000   Max.   :1.00000  \n",
       "       5                 6                 7                8         \n",
       " Min.   :0.00000   Min.   :0.00000   Min.   :0.0000   Min.   :0.0000  \n",
       " 1st Qu.:0.00000   1st Qu.:0.00000   1st Qu.:0.0000   1st Qu.:0.0000  \n",
       " Median :0.00000   Median :0.00000   Median :0.0000   Median :0.0000  \n",
       " Mean   :0.04158   Mean   :0.04158   Mean   :0.0417   Mean   :0.0417  \n",
       " 3rd Qu.:0.00000   3rd Qu.:0.00000   3rd Qu.:0.0000   3rd Qu.:0.0000  \n",
       " Max.   :1.00000   Max.   :1.00000   Max.   :1.0000   Max.   :1.0000  \n",
       "       9         \n",
       " Min.   :0.0000  \n",
       " 1st Qu.:0.0000  \n",
       " Median :0.0000  \n",
       " Mean   :0.0417  \n",
       " 3rd Qu.:0.0000  \n",
       " Max.   :1.0000  "
      ]
     },
     "metadata": {},
     "output_type": "display_data"
    }
   ],
   "source": [
    "# Print the dataset summary again to make sure the indicator columns are created properly\n",
    "summary(seoul_bike_sharing)"
   ]
  },
  {
   "cell_type": "code",
   "execution_count": 15,
   "id": "42196d5b-7839-4b34-9363-d8fa441ad153",
   "metadata": {},
   "outputs": [],
   "source": [
    "# Save the dataset as `seoul_bike_sharing_converted.csv`\n",
    "# write_csv(dataframe, \"seoul_bike_sharing_converted.csv\")\n",
    "write_csv(seoul_bike_sharing, \"seoul_bike_sharing_converted.csv\")"
   ]
  },
  {
   "cell_type": "markdown",
   "id": "71d7e057-b160-498a-911e-2c9875d7069c",
   "metadata": {},
   "source": [
    "# TASK: Normalize data\n"
   ]
  },
  {
   "cell_type": "markdown",
   "id": "e7ba7323-9a9f-4a81-9a70-821234372356",
   "metadata": {},
   "source": [
    "Columns `RENTED_BIKE_COUNT`, `TEMPERATURE`, `HUMIDITY`, `WIND_SPEED`, `VISIBILITY`, `DEW_POINT_TEMPERATURE`, `SOLAR_RADIATION`, `RAINFALL`, `SNOWFALL` are numerical variables/columns with different value units and range. Columns with large values may adversely influence (bias) the predictive models and degrade model accuracy. Thus, we need to perform normalization on these numeric columns to transfer them into a similar range.\n"
   ]
  },
  {
   "cell_type": "markdown",
   "id": "dcc3ce21-07e4-4c10-b8a3-915d03b8eed0",
   "metadata": {},
   "source": [
    "In this project, you are asked to use Min-max normalization: \n",
    "\n",
    "**Min-max** rescales each value in a column by first subtracting the minimum value of the column from each value, and then divides the result by the difference between the maximum and minimum values of the column. So the column gets re-scaled such that the minimum becomes 0 and the maximum becomes 1.\n",
    "\n",
    "$$x_{new} = \\frac{x_{old} - x_{min}}{x_{max} - x_{min}}$$\n"
   ]
  },
  {
   "cell_type": "markdown",
   "id": "96e6a3de-8894-4d34-bb8d-614b599f0356",
   "metadata": {},
   "source": [
    "_TODO:_ Apply min-max normalization on `RENTED_BIKE_COUNT`, `TEMPERATURE`, `HUMIDITY`, `WIND_SPEED`, `VISIBILITY`, `DEW_POINT_TEMPERATURE`, `SOLAR_RADIATION`, `RAINFALL`, `SNOWFALL`\n"
   ]
  },
  {
   "cell_type": "code",
   "execution_count": 16,
   "id": "8c659ea9-3121-4171-b11d-147f5758c516",
   "metadata": {},
   "outputs": [
    {
     "data": {
      "text/html": [
       "<table class=\"dataframe\">\n",
       "<caption>A tibble: 8760 × 14</caption>\n",
       "<thead>\n",
       "\t<tr><th scope=col>DATE</th><th scope=col>RENTED_BIKE_COUNT</th><th scope=col>HOUR</th><th scope=col>TEMPERATURE</th><th scope=col>HUMIDITY</th><th scope=col>WIND_SPEED</th><th scope=col>VISIBILITY</th><th scope=col>DEW_POINT_TEMPERATURE</th><th scope=col>SOLAR_RADIATION</th><th scope=col>RAINFALL</th><th scope=col>SNOWFALL</th><th scope=col>SEASONS</th><th scope=col>HOLIDAY</th><th scope=col>FUNCTIONING_DAY</th></tr>\n",
       "\t<tr><th scope=col>&lt;chr&gt;</th><th scope=col>&lt;dbl&gt;</th><th scope=col>&lt;dbl&gt;</th><th scope=col>&lt;dbl&gt;</th><th scope=col>&lt;dbl&gt;</th><th scope=col>&lt;dbl&gt;</th><th scope=col>&lt;dbl&gt;</th><th scope=col>&lt;dbl&gt;</th><th scope=col>&lt;dbl&gt;</th><th scope=col>&lt;dbl&gt;</th><th scope=col>&lt;dbl&gt;</th><th scope=col>&lt;chr&gt;</th><th scope=col>&lt;chr&gt;</th><th scope=col>&lt;chr&gt;</th></tr>\n",
       "</thead>\n",
       "<tbody>\n",
       "\t<tr><td>01/12/2017</td><td>254</td><td> 0</td><td>NA</td><td>0.3775510</td><td>0.29729730</td><td>1.0000000</td><td>0.2249135</td><td>0.000000000</td><td>0</td><td>0</td><td>Winter</td><td>No Holiday</td><td>Yes</td></tr>\n",
       "\t<tr><td>01/12/2017</td><td>204</td><td> 1</td><td>NA</td><td>0.3877551</td><td>0.10810811</td><td>1.0000000</td><td>0.2249135</td><td>0.000000000</td><td>0</td><td>0</td><td>Winter</td><td>No Holiday</td><td>Yes</td></tr>\n",
       "\t<tr><td>01/12/2017</td><td>173</td><td> 2</td><td>NA</td><td>0.3979592</td><td>0.13513514</td><td>1.0000000</td><td>0.2231834</td><td>0.000000000</td><td>0</td><td>0</td><td>Winter</td><td>No Holiday</td><td>Yes</td></tr>\n",
       "\t<tr><td>01/12/2017</td><td>107</td><td> 3</td><td>NA</td><td>0.4081633</td><td>0.12162162</td><td>1.0000000</td><td>0.2249135</td><td>0.000000000</td><td>0</td><td>0</td><td>Winter</td><td>No Holiday</td><td>Yes</td></tr>\n",
       "\t<tr><td>01/12/2017</td><td> 78</td><td> 4</td><td>NA</td><td>0.3673469</td><td>0.31081081</td><td>1.0000000</td><td>0.2076125</td><td>0.000000000</td><td>0</td><td>0</td><td>Winter</td><td>No Holiday</td><td>Yes</td></tr>\n",
       "\t<tr><td>01/12/2017</td><td>100</td><td> 5</td><td>NA</td><td>0.3775510</td><td>0.20270270</td><td>1.0000000</td><td>0.2058824</td><td>0.000000000</td><td>0</td><td>0</td><td>Winter</td><td>No Holiday</td><td>Yes</td></tr>\n",
       "\t<tr><td>01/12/2017</td><td>181</td><td> 6</td><td>NA</td><td>0.3571429</td><td>0.17567568</td><td>1.0000000</td><td>0.1920415</td><td>0.000000000</td><td>0</td><td>0</td><td>Winter</td><td>No Holiday</td><td>Yes</td></tr>\n",
       "\t<tr><td>01/12/2017</td><td>460</td><td> 7</td><td>NA</td><td>0.3877551</td><td>0.12162162</td><td>1.0000000</td><td>0.1955017</td><td>0.000000000</td><td>0</td><td>0</td><td>Winter</td><td>No Holiday</td><td>Yes</td></tr>\n",
       "\t<tr><td>01/12/2017</td><td>930</td><td> 8</td><td>NA</td><td>0.3775510</td><td>0.14864865</td><td>1.0000000</td><td>0.1868512</td><td>0.002840909</td><td>0</td><td>0</td><td>Winter</td><td>No Holiday</td><td>Yes</td></tr>\n",
       "\t<tr><td>01/12/2017</td><td>490</td><td> 9</td><td>NA</td><td>0.2755102</td><td>0.06756757</td><td>0.9635073</td><td>0.1418685</td><td>0.065340909</td><td>0</td><td>0</td><td>Winter</td><td>No Holiday</td><td>Yes</td></tr>\n",
       "\t<tr><td>01/12/2017</td><td>339</td><td>10</td><td>NA</td><td>0.2448980</td><td>0.16216216</td><td>0.9979726</td><td>0.1626298</td><td>0.184659091</td><td>0</td><td>0</td><td>Winter</td><td>No Holiday</td><td>Yes</td></tr>\n",
       "\t<tr><td>01/12/2017</td><td>360</td><td>11</td><td>NA</td><td>0.2142857</td><td>0.17567568</td><td>0.9675621</td><td>0.1799308</td><td>0.267045455</td><td>0</td><td>0</td><td>Winter</td><td>No Holiday</td><td>Yes</td></tr>\n",
       "\t<tr><td>01/12/2017</td><td>449</td><td>12</td><td>NA</td><td>0.2346939</td><td>0.18918919</td><td>1.0000000</td><td>0.2318339</td><td>0.315340909</td><td>0</td><td>0</td><td>Winter</td><td>No Holiday</td><td>Yes</td></tr>\n",
       "\t<tr><td>01/12/2017</td><td>451</td><td>13</td><td>NA</td><td>0.2551020</td><td>0.21621622</td><td>1.0000000</td><td>0.2595156</td><td>0.329545455</td><td>0</td><td>0</td><td>Winter</td><td>No Holiday</td><td>Yes</td></tr>\n",
       "\t<tr><td>01/12/2017</td><td>447</td><td>14</td><td>NA</td><td>0.2653061</td><td>0.27027027</td><td>1.0000000</td><td>0.2768166</td><td>0.286931818</td><td>0</td><td>0</td><td>Winter</td><td>No Holiday</td><td>Yes</td></tr>\n",
       "\t<tr><td>01/12/2017</td><td>463</td><td>15</td><td>NA</td><td>0.3673469</td><td>0.43243243</td><td>1.0000000</td><td>0.3321799</td><td>0.153409091</td><td>0</td><td>0</td><td>Winter</td><td>No Holiday</td><td>Yes</td></tr>\n",
       "\t<tr><td>01/12/2017</td><td>484</td><td>16</td><td>NA</td><td>0.5510204</td><td>0.56756757</td><td>0.3882413</td><td>0.4083045</td><td>0.068181818</td><td>0</td><td>0</td><td>Winter</td><td>No Holiday</td><td>Yes</td></tr>\n",
       "\t<tr><td>01/12/2017</td><td>555</td><td>17</td><td>NA</td><td>0.5918367</td><td>0.21621622</td><td>1.0000000</td><td>0.4169550</td><td>0.022727273</td><td>0</td><td>0</td><td>Winter</td><td>No Holiday</td><td>Yes</td></tr>\n",
       "\t<tr><td>01/12/2017</td><td>862</td><td>18</td><td>NA</td><td>0.6734694</td><td>0.18918919</td><td>1.0000000</td><td>0.4429066</td><td>0.000000000</td><td>0</td><td>0</td><td>Winter</td><td>No Holiday</td><td>Yes</td></tr>\n",
       "\t<tr><td>01/12/2017</td><td>600</td><td>19</td><td>NA</td><td>0.7857143</td><td>0.22972973</td><td>1.0000000</td><td>0.4688581</td><td>0.000000000</td><td>0</td><td>0</td><td>Winter</td><td>No Holiday</td><td>Yes</td></tr>\n",
       "\t<tr><td>01/12/2017</td><td>426</td><td>20</td><td>NA</td><td>0.8061224</td><td>0.20270270</td><td>0.9559047</td><td>0.4688581</td><td>0.000000000</td><td>0</td><td>0</td><td>Winter</td><td>No Holiday</td><td>Yes</td></tr>\n",
       "\t<tr><td>01/12/2017</td><td>405</td><td>21</td><td>NA</td><td>0.8265306</td><td>0.10810811</td><td>0.8413583</td><td>0.4671280</td><td>0.000000000</td><td>0</td><td>0</td><td>Winter</td><td>No Holiday</td><td>Yes</td></tr>\n",
       "\t<tr><td>01/12/2017</td><td>398</td><td>22</td><td>NA</td><td>0.8469388</td><td>0.20270270</td><td>0.6857577</td><td>0.4705882</td><td>0.000000000</td><td>0</td><td>0</td><td>Winter</td><td>No Holiday</td><td>Yes</td></tr>\n",
       "\t<tr><td>01/12/2017</td><td>323</td><td>23</td><td>NA</td><td>0.8571429</td><td>0.13513514</td><td>0.6274709</td><td>0.4671280</td><td>0.000000000</td><td>0</td><td>0</td><td>Winter</td><td>No Holiday</td><td>Yes</td></tr>\n",
       "\t<tr><td>02/12/2017</td><td>328</td><td> 0</td><td>NA</td><td>0.8877551</td><td>0.14864865</td><td>0.4901166</td><td>0.4671280</td><td>0.000000000</td><td>0</td><td>0</td><td>Winter</td><td>No Holiday</td><td>Yes</td></tr>\n",
       "\t<tr><td>02/12/2017</td><td>308</td><td> 1</td><td>NA</td><td>0.8775510</td><td>0.08108108</td><td>0.4880892</td><td>0.4567474</td><td>0.000000000</td><td>0</td><td>0</td><td>Winter</td><td>No Holiday</td><td>Yes</td></tr>\n",
       "\t<tr><td>02/12/2017</td><td>262</td><td> 2</td><td>NA</td><td>0.8775510</td><td>0.20270270</td><td>0.6229093</td><td>0.4446367</td><td>0.000000000</td><td>0</td><td>0</td><td>Winter</td><td>No Holiday</td><td>Yes</td></tr>\n",
       "\t<tr><td>02/12/2017</td><td>167</td><td> 3</td><td>NA</td><td>0.8265306</td><td>0.29729730</td><td>0.6051698</td><td>0.4221453</td><td>0.000000000</td><td>0</td><td>0</td><td>Winter</td><td>No Holiday</td><td>Yes</td></tr>\n",
       "\t<tr><td>02/12/2017</td><td> 89</td><td> 4</td><td>NA</td><td>0.8061224</td><td>0.27027027</td><td>0.5778003</td><td>0.4100346</td><td>0.000000000</td><td>0</td><td>0</td><td>Winter</td><td>No Holiday</td><td>Yes</td></tr>\n",
       "\t<tr><td>02/12/2017</td><td> 79</td><td> 5</td><td>NA</td><td>0.8061224</td><td>0.20270270</td><td>0.5955398</td><td>0.4065744</td><td>0.000000000</td><td>0</td><td>0</td><td>Winter</td><td>No Holiday</td><td>Yes</td></tr>\n",
       "\t<tr><td>⋮</td><td>⋮</td><td>⋮</td><td>⋮</td><td>⋮</td><td>⋮</td><td>⋮</td><td>⋮</td><td>⋮</td><td>⋮</td><td>⋮</td><td>⋮</td><td>⋮</td><td>⋮</td></tr>\n",
       "\t<tr><td>29/11/2018</td><td>1577</td><td>18</td><td>NA</td><td>0.4693878</td><td>0.12162162</td><td>0.7800304</td><td>0.4463668</td><td>0.000000000</td><td>0</td><td>0</td><td>Autumn</td><td>No Holiday</td><td>Yes</td></tr>\n",
       "\t<tr><td>29/11/2018</td><td>1026</td><td>19</td><td>NA</td><td>0.4897959</td><td>0.25675676</td><td>0.7921946</td><td>0.4446367</td><td>0.000000000</td><td>0</td><td>0</td><td>Autumn</td><td>No Holiday</td><td>Yes</td></tr>\n",
       "\t<tr><td>29/11/2018</td><td> 818</td><td>20</td><td>NA</td><td>0.5510204</td><td>0.17567568</td><td>0.7131272</td><td>0.4550173</td><td>0.000000000</td><td>0</td><td>0</td><td>Autumn</td><td>No Holiday</td><td>Yes</td></tr>\n",
       "\t<tr><td>29/11/2018</td><td> 792</td><td>21</td><td>NA</td><td>0.5612245</td><td>0.28378378</td><td>0.6102382</td><td>0.4532872</td><td>0.000000000</td><td>0</td><td>0</td><td>Autumn</td><td>No Holiday</td><td>Yes</td></tr>\n",
       "\t<tr><td>29/11/2018</td><td> 726</td><td>22</td><td>NA</td><td>0.6020408</td><td>0.14864865</td><td>0.6036493</td><td>0.4567474</td><td>0.000000000</td><td>0</td><td>0</td><td>Autumn</td><td>No Holiday</td><td>Yes</td></tr>\n",
       "\t<tr><td>29/11/2018</td><td> 559</td><td>23</td><td>NA</td><td>0.5714286</td><td>0.25675676</td><td>0.6928535</td><td>0.4377163</td><td>0.000000000</td><td>0</td><td>0</td><td>Autumn</td><td>No Holiday</td><td>Yes</td></tr>\n",
       "\t<tr><td>30/11/2018</td><td> 474</td><td> 0</td><td>NA</td><td>0.6326531</td><td>0.21621622</td><td>0.7014698</td><td>0.4480969</td><td>0.000000000</td><td>0</td><td>0</td><td>Autumn</td><td>No Holiday</td><td>Yes</td></tr>\n",
       "\t<tr><td>30/11/2018</td><td> 456</td><td> 1</td><td>NA</td><td>0.6428571</td><td>0.27027027</td><td>0.6852509</td><td>0.4446367</td><td>0.000000000</td><td>0</td><td>0</td><td>Autumn</td><td>No Holiday</td><td>Yes</td></tr>\n",
       "\t<tr><td>30/11/2018</td><td> 300</td><td> 2</td><td>NA</td><td>0.6734694</td><td>0.06756757</td><td>0.6796756</td><td>0.4429066</td><td>0.000000000</td><td>0</td><td>0</td><td>Autumn</td><td>No Holiday</td><td>Yes</td></tr>\n",
       "\t<tr><td>30/11/2018</td><td> 213</td><td> 3</td><td>NA</td><td>0.7040816</td><td>0.12162162</td><td>0.6644703</td><td>0.4411765</td><td>0.000000000</td><td>0</td><td>0</td><td>Autumn</td><td>No Holiday</td><td>Yes</td></tr>\n",
       "\t<tr><td>30/11/2018</td><td> 116</td><td> 4</td><td>NA</td><td>0.7244898</td><td>0.05405405</td><td>0.6680182</td><td>0.4411765</td><td>0.000000000</td><td>0</td><td>0</td><td>Autumn</td><td>No Holiday</td><td>Yes</td></tr>\n",
       "\t<tr><td>30/11/2018</td><td> 149</td><td> 5</td><td>NA</td><td>0.6734694</td><td>0.06756757</td><td>0.6634567</td><td>0.4221453</td><td>0.000000000</td><td>0</td><td>0</td><td>Autumn</td><td>No Holiday</td><td>Yes</td></tr>\n",
       "\t<tr><td>30/11/2018</td><td> 293</td><td> 6</td><td>NA</td><td>0.6938776</td><td>0.10810811</td><td>0.6563609</td><td>0.4273356</td><td>0.000000000</td><td>0</td><td>0</td><td>Autumn</td><td>No Holiday</td><td>Yes</td></tr>\n",
       "\t<tr><td>30/11/2018</td><td> 750</td><td> 7</td><td>NA</td><td>0.7142857</td><td>0.10810811</td><td>0.6710593</td><td>0.4273356</td><td>0.000000000</td><td>0</td><td>0</td><td>Autumn</td><td>No Holiday</td><td>Yes</td></tr>\n",
       "\t<tr><td>30/11/2018</td><td>1527</td><td> 8</td><td>NA</td><td>0.6938776</td><td>0.14864865</td><td>0.6381145</td><td>0.4152249</td><td>0.005681818</td><td>0</td><td>0</td><td>Autumn</td><td>No Holiday</td><td>Yes</td></tr>\n",
       "\t<tr><td>30/11/2018</td><td> 809</td><td> 9</td><td>NA</td><td>0.5816327</td><td>0.08108108</td><td>0.6300051</td><td>0.3944637</td><td>0.127840909</td><td>0</td><td>0</td><td>Autumn</td><td>No Holiday</td><td>Yes</td></tr>\n",
       "\t<tr><td>30/11/2018</td><td> 554</td><td>10</td><td>NA</td><td>0.5204082</td><td>0.10810811</td><td>0.5078561</td><td>0.4065744</td><td>0.286931818</td><td>0</td><td>0</td><td>Autumn</td><td>No Holiday</td><td>Yes</td></tr>\n",
       "\t<tr><td>30/11/2018</td><td> 642</td><td>11</td><td>NA</td><td>0.4387755</td><td>0.24324324</td><td>0.5828687</td><td>0.4221453</td><td>0.392045455</td><td>0</td><td>0</td><td>Autumn</td><td>No Holiday</td><td>Yes</td></tr>\n",
       "\t<tr><td>30/11/2018</td><td> 720</td><td>12</td><td>NA</td><td>0.3571429</td><td>0.17567568</td><td>0.7004562</td><td>0.3944637</td><td>0.482954545</td><td>0</td><td>0</td><td>Autumn</td><td>No Holiday</td><td>Yes</td></tr>\n",
       "\t<tr><td>30/11/2018</td><td> 740</td><td>13</td><td>NA</td><td>0.2448980</td><td>0.37837838</td><td>0.9178915</td><td>0.3200692</td><td>0.519886364</td><td>0</td><td>0</td><td>Autumn</td><td>No Holiday</td><td>Yes</td></tr>\n",
       "\t<tr><td>30/11/2018</td><td> 761</td><td>14</td><td>NA</td><td>0.2040816</td><td>0.29729730</td><td>1.0000000</td><td>0.2906574</td><td>0.474431818</td><td>0</td><td>0</td><td>Autumn</td><td>No Holiday</td><td>Yes</td></tr>\n",
       "\t<tr><td>30/11/2018</td><td> 768</td><td>15</td><td>NA</td><td>0.2040816</td><td>0.44594595</td><td>0.9969589</td><td>0.2802768</td><td>0.343750000</td><td>0</td><td>0</td><td>Autumn</td><td>No Holiday</td><td>Yes</td></tr>\n",
       "\t<tr><td>30/11/2018</td><td> 837</td><td>16</td><td>NA</td><td>0.2346939</td><td>0.20270270</td><td>0.9721237</td><td>0.3114187</td><td>0.204545455</td><td>0</td><td>0</td><td>Autumn</td><td>No Holiday</td><td>Yes</td></tr>\n",
       "\t<tr><td>30/11/2018</td><td>1047</td><td>17</td><td>NA</td><td>0.2959184</td><td>0.28378378</td><td>0.9376584</td><td>0.3442907</td><td>0.065340909</td><td>0</td><td>0</td><td>Autumn</td><td>No Holiday</td><td>Yes</td></tr>\n",
       "\t<tr><td>30/11/2018</td><td>1384</td><td>18</td><td>NA</td><td>0.3469388</td><td>0.25675676</td><td>0.8281804</td><td>0.3598616</td><td>0.000000000</td><td>0</td><td>0</td><td>Autumn</td><td>No Holiday</td><td>Yes</td></tr>\n",
       "\t<tr><td>30/11/2018</td><td>1003</td><td>19</td><td>NA</td><td>0.3469388</td><td>0.35135135</td><td>0.9462747</td><td>0.3512111</td><td>0.000000000</td><td>0</td><td>0</td><td>Autumn</td><td>No Holiday</td><td>Yes</td></tr>\n",
       "\t<tr><td>30/11/2018</td><td> 764</td><td>20</td><td>NA</td><td>0.3775510</td><td>0.31081081</td><td>1.0000000</td><td>0.3581315</td><td>0.000000000</td><td>0</td><td>0</td><td>Autumn</td><td>No Holiday</td><td>Yes</td></tr>\n",
       "\t<tr><td>30/11/2018</td><td> 694</td><td>21</td><td>NA</td><td>0.3979592</td><td>0.04054054</td><td>0.9837810</td><td>0.3581315</td><td>0.000000000</td><td>0</td><td>0</td><td>Autumn</td><td>No Holiday</td><td>Yes</td></tr>\n",
       "\t<tr><td>30/11/2018</td><td> 712</td><td>22</td><td>NA</td><td>0.4183673</td><td>0.13513514</td><td>0.9285352</td><td>0.3598616</td><td>0.000000000</td><td>0</td><td>0</td><td>Autumn</td><td>No Holiday</td><td>Yes</td></tr>\n",
       "\t<tr><td>30/11/2018</td><td> 584</td><td>23</td><td>NA</td><td>0.4387755</td><td>0.17567568</td><td>0.9538773</td><td>0.3685121</td><td>0.000000000</td><td>0</td><td>0</td><td>Autumn</td><td>No Holiday</td><td>Yes</td></tr>\n",
       "</tbody>\n",
       "</table>\n"
      ],
      "text/latex": [
       "A tibble: 8760 × 14\n",
       "\\begin{tabular}{llllllllllllll}\n",
       " DATE & RENTED\\_BIKE\\_COUNT & HOUR & TEMPERATURE & HUMIDITY & WIND\\_SPEED & VISIBILITY & DEW\\_POINT\\_TEMPERATURE & SOLAR\\_RADIATION & RAINFALL & SNOWFALL & SEASONS & HOLIDAY & FUNCTIONING\\_DAY\\\\\n",
       " <chr> & <dbl> & <dbl> & <dbl> & <dbl> & <dbl> & <dbl> & <dbl> & <dbl> & <dbl> & <dbl> & <chr> & <chr> & <chr>\\\\\n",
       "\\hline\n",
       "\t 01/12/2017 & 254 &  0 & NA & 0.3775510 & 0.29729730 & 1.0000000 & 0.2249135 & 0.000000000 & 0 & 0 & Winter & No Holiday & Yes\\\\\n",
       "\t 01/12/2017 & 204 &  1 & NA & 0.3877551 & 0.10810811 & 1.0000000 & 0.2249135 & 0.000000000 & 0 & 0 & Winter & No Holiday & Yes\\\\\n",
       "\t 01/12/2017 & 173 &  2 & NA & 0.3979592 & 0.13513514 & 1.0000000 & 0.2231834 & 0.000000000 & 0 & 0 & Winter & No Holiday & Yes\\\\\n",
       "\t 01/12/2017 & 107 &  3 & NA & 0.4081633 & 0.12162162 & 1.0000000 & 0.2249135 & 0.000000000 & 0 & 0 & Winter & No Holiday & Yes\\\\\n",
       "\t 01/12/2017 &  78 &  4 & NA & 0.3673469 & 0.31081081 & 1.0000000 & 0.2076125 & 0.000000000 & 0 & 0 & Winter & No Holiday & Yes\\\\\n",
       "\t 01/12/2017 & 100 &  5 & NA & 0.3775510 & 0.20270270 & 1.0000000 & 0.2058824 & 0.000000000 & 0 & 0 & Winter & No Holiday & Yes\\\\\n",
       "\t 01/12/2017 & 181 &  6 & NA & 0.3571429 & 0.17567568 & 1.0000000 & 0.1920415 & 0.000000000 & 0 & 0 & Winter & No Holiday & Yes\\\\\n",
       "\t 01/12/2017 & 460 &  7 & NA & 0.3877551 & 0.12162162 & 1.0000000 & 0.1955017 & 0.000000000 & 0 & 0 & Winter & No Holiday & Yes\\\\\n",
       "\t 01/12/2017 & 930 &  8 & NA & 0.3775510 & 0.14864865 & 1.0000000 & 0.1868512 & 0.002840909 & 0 & 0 & Winter & No Holiday & Yes\\\\\n",
       "\t 01/12/2017 & 490 &  9 & NA & 0.2755102 & 0.06756757 & 0.9635073 & 0.1418685 & 0.065340909 & 0 & 0 & Winter & No Holiday & Yes\\\\\n",
       "\t 01/12/2017 & 339 & 10 & NA & 0.2448980 & 0.16216216 & 0.9979726 & 0.1626298 & 0.184659091 & 0 & 0 & Winter & No Holiday & Yes\\\\\n",
       "\t 01/12/2017 & 360 & 11 & NA & 0.2142857 & 0.17567568 & 0.9675621 & 0.1799308 & 0.267045455 & 0 & 0 & Winter & No Holiday & Yes\\\\\n",
       "\t 01/12/2017 & 449 & 12 & NA & 0.2346939 & 0.18918919 & 1.0000000 & 0.2318339 & 0.315340909 & 0 & 0 & Winter & No Holiday & Yes\\\\\n",
       "\t 01/12/2017 & 451 & 13 & NA & 0.2551020 & 0.21621622 & 1.0000000 & 0.2595156 & 0.329545455 & 0 & 0 & Winter & No Holiday & Yes\\\\\n",
       "\t 01/12/2017 & 447 & 14 & NA & 0.2653061 & 0.27027027 & 1.0000000 & 0.2768166 & 0.286931818 & 0 & 0 & Winter & No Holiday & Yes\\\\\n",
       "\t 01/12/2017 & 463 & 15 & NA & 0.3673469 & 0.43243243 & 1.0000000 & 0.3321799 & 0.153409091 & 0 & 0 & Winter & No Holiday & Yes\\\\\n",
       "\t 01/12/2017 & 484 & 16 & NA & 0.5510204 & 0.56756757 & 0.3882413 & 0.4083045 & 0.068181818 & 0 & 0 & Winter & No Holiday & Yes\\\\\n",
       "\t 01/12/2017 & 555 & 17 & NA & 0.5918367 & 0.21621622 & 1.0000000 & 0.4169550 & 0.022727273 & 0 & 0 & Winter & No Holiday & Yes\\\\\n",
       "\t 01/12/2017 & 862 & 18 & NA & 0.6734694 & 0.18918919 & 1.0000000 & 0.4429066 & 0.000000000 & 0 & 0 & Winter & No Holiday & Yes\\\\\n",
       "\t 01/12/2017 & 600 & 19 & NA & 0.7857143 & 0.22972973 & 1.0000000 & 0.4688581 & 0.000000000 & 0 & 0 & Winter & No Holiday & Yes\\\\\n",
       "\t 01/12/2017 & 426 & 20 & NA & 0.8061224 & 0.20270270 & 0.9559047 & 0.4688581 & 0.000000000 & 0 & 0 & Winter & No Holiday & Yes\\\\\n",
       "\t 01/12/2017 & 405 & 21 & NA & 0.8265306 & 0.10810811 & 0.8413583 & 0.4671280 & 0.000000000 & 0 & 0 & Winter & No Holiday & Yes\\\\\n",
       "\t 01/12/2017 & 398 & 22 & NA & 0.8469388 & 0.20270270 & 0.6857577 & 0.4705882 & 0.000000000 & 0 & 0 & Winter & No Holiday & Yes\\\\\n",
       "\t 01/12/2017 & 323 & 23 & NA & 0.8571429 & 0.13513514 & 0.6274709 & 0.4671280 & 0.000000000 & 0 & 0 & Winter & No Holiday & Yes\\\\\n",
       "\t 02/12/2017 & 328 &  0 & NA & 0.8877551 & 0.14864865 & 0.4901166 & 0.4671280 & 0.000000000 & 0 & 0 & Winter & No Holiday & Yes\\\\\n",
       "\t 02/12/2017 & 308 &  1 & NA & 0.8775510 & 0.08108108 & 0.4880892 & 0.4567474 & 0.000000000 & 0 & 0 & Winter & No Holiday & Yes\\\\\n",
       "\t 02/12/2017 & 262 &  2 & NA & 0.8775510 & 0.20270270 & 0.6229093 & 0.4446367 & 0.000000000 & 0 & 0 & Winter & No Holiday & Yes\\\\\n",
       "\t 02/12/2017 & 167 &  3 & NA & 0.8265306 & 0.29729730 & 0.6051698 & 0.4221453 & 0.000000000 & 0 & 0 & Winter & No Holiday & Yes\\\\\n",
       "\t 02/12/2017 &  89 &  4 & NA & 0.8061224 & 0.27027027 & 0.5778003 & 0.4100346 & 0.000000000 & 0 & 0 & Winter & No Holiday & Yes\\\\\n",
       "\t 02/12/2017 &  79 &  5 & NA & 0.8061224 & 0.20270270 & 0.5955398 & 0.4065744 & 0.000000000 & 0 & 0 & Winter & No Holiday & Yes\\\\\n",
       "\t ⋮ & ⋮ & ⋮ & ⋮ & ⋮ & ⋮ & ⋮ & ⋮ & ⋮ & ⋮ & ⋮ & ⋮ & ⋮ & ⋮\\\\\n",
       "\t 29/11/2018 & 1577 & 18 & NA & 0.4693878 & 0.12162162 & 0.7800304 & 0.4463668 & 0.000000000 & 0 & 0 & Autumn & No Holiday & Yes\\\\\n",
       "\t 29/11/2018 & 1026 & 19 & NA & 0.4897959 & 0.25675676 & 0.7921946 & 0.4446367 & 0.000000000 & 0 & 0 & Autumn & No Holiday & Yes\\\\\n",
       "\t 29/11/2018 &  818 & 20 & NA & 0.5510204 & 0.17567568 & 0.7131272 & 0.4550173 & 0.000000000 & 0 & 0 & Autumn & No Holiday & Yes\\\\\n",
       "\t 29/11/2018 &  792 & 21 & NA & 0.5612245 & 0.28378378 & 0.6102382 & 0.4532872 & 0.000000000 & 0 & 0 & Autumn & No Holiday & Yes\\\\\n",
       "\t 29/11/2018 &  726 & 22 & NA & 0.6020408 & 0.14864865 & 0.6036493 & 0.4567474 & 0.000000000 & 0 & 0 & Autumn & No Holiday & Yes\\\\\n",
       "\t 29/11/2018 &  559 & 23 & NA & 0.5714286 & 0.25675676 & 0.6928535 & 0.4377163 & 0.000000000 & 0 & 0 & Autumn & No Holiday & Yes\\\\\n",
       "\t 30/11/2018 &  474 &  0 & NA & 0.6326531 & 0.21621622 & 0.7014698 & 0.4480969 & 0.000000000 & 0 & 0 & Autumn & No Holiday & Yes\\\\\n",
       "\t 30/11/2018 &  456 &  1 & NA & 0.6428571 & 0.27027027 & 0.6852509 & 0.4446367 & 0.000000000 & 0 & 0 & Autumn & No Holiday & Yes\\\\\n",
       "\t 30/11/2018 &  300 &  2 & NA & 0.6734694 & 0.06756757 & 0.6796756 & 0.4429066 & 0.000000000 & 0 & 0 & Autumn & No Holiday & Yes\\\\\n",
       "\t 30/11/2018 &  213 &  3 & NA & 0.7040816 & 0.12162162 & 0.6644703 & 0.4411765 & 0.000000000 & 0 & 0 & Autumn & No Holiday & Yes\\\\\n",
       "\t 30/11/2018 &  116 &  4 & NA & 0.7244898 & 0.05405405 & 0.6680182 & 0.4411765 & 0.000000000 & 0 & 0 & Autumn & No Holiday & Yes\\\\\n",
       "\t 30/11/2018 &  149 &  5 & NA & 0.6734694 & 0.06756757 & 0.6634567 & 0.4221453 & 0.000000000 & 0 & 0 & Autumn & No Holiday & Yes\\\\\n",
       "\t 30/11/2018 &  293 &  6 & NA & 0.6938776 & 0.10810811 & 0.6563609 & 0.4273356 & 0.000000000 & 0 & 0 & Autumn & No Holiday & Yes\\\\\n",
       "\t 30/11/2018 &  750 &  7 & NA & 0.7142857 & 0.10810811 & 0.6710593 & 0.4273356 & 0.000000000 & 0 & 0 & Autumn & No Holiday & Yes\\\\\n",
       "\t 30/11/2018 & 1527 &  8 & NA & 0.6938776 & 0.14864865 & 0.6381145 & 0.4152249 & 0.005681818 & 0 & 0 & Autumn & No Holiday & Yes\\\\\n",
       "\t 30/11/2018 &  809 &  9 & NA & 0.5816327 & 0.08108108 & 0.6300051 & 0.3944637 & 0.127840909 & 0 & 0 & Autumn & No Holiday & Yes\\\\\n",
       "\t 30/11/2018 &  554 & 10 & NA & 0.5204082 & 0.10810811 & 0.5078561 & 0.4065744 & 0.286931818 & 0 & 0 & Autumn & No Holiday & Yes\\\\\n",
       "\t 30/11/2018 &  642 & 11 & NA & 0.4387755 & 0.24324324 & 0.5828687 & 0.4221453 & 0.392045455 & 0 & 0 & Autumn & No Holiday & Yes\\\\\n",
       "\t 30/11/2018 &  720 & 12 & NA & 0.3571429 & 0.17567568 & 0.7004562 & 0.3944637 & 0.482954545 & 0 & 0 & Autumn & No Holiday & Yes\\\\\n",
       "\t 30/11/2018 &  740 & 13 & NA & 0.2448980 & 0.37837838 & 0.9178915 & 0.3200692 & 0.519886364 & 0 & 0 & Autumn & No Holiday & Yes\\\\\n",
       "\t 30/11/2018 &  761 & 14 & NA & 0.2040816 & 0.29729730 & 1.0000000 & 0.2906574 & 0.474431818 & 0 & 0 & Autumn & No Holiday & Yes\\\\\n",
       "\t 30/11/2018 &  768 & 15 & NA & 0.2040816 & 0.44594595 & 0.9969589 & 0.2802768 & 0.343750000 & 0 & 0 & Autumn & No Holiday & Yes\\\\\n",
       "\t 30/11/2018 &  837 & 16 & NA & 0.2346939 & 0.20270270 & 0.9721237 & 0.3114187 & 0.204545455 & 0 & 0 & Autumn & No Holiday & Yes\\\\\n",
       "\t 30/11/2018 & 1047 & 17 & NA & 0.2959184 & 0.28378378 & 0.9376584 & 0.3442907 & 0.065340909 & 0 & 0 & Autumn & No Holiday & Yes\\\\\n",
       "\t 30/11/2018 & 1384 & 18 & NA & 0.3469388 & 0.25675676 & 0.8281804 & 0.3598616 & 0.000000000 & 0 & 0 & Autumn & No Holiday & Yes\\\\\n",
       "\t 30/11/2018 & 1003 & 19 & NA & 0.3469388 & 0.35135135 & 0.9462747 & 0.3512111 & 0.000000000 & 0 & 0 & Autumn & No Holiday & Yes\\\\\n",
       "\t 30/11/2018 &  764 & 20 & NA & 0.3775510 & 0.31081081 & 1.0000000 & 0.3581315 & 0.000000000 & 0 & 0 & Autumn & No Holiday & Yes\\\\\n",
       "\t 30/11/2018 &  694 & 21 & NA & 0.3979592 & 0.04054054 & 0.9837810 & 0.3581315 & 0.000000000 & 0 & 0 & Autumn & No Holiday & Yes\\\\\n",
       "\t 30/11/2018 &  712 & 22 & NA & 0.4183673 & 0.13513514 & 0.9285352 & 0.3598616 & 0.000000000 & 0 & 0 & Autumn & No Holiday & Yes\\\\\n",
       "\t 30/11/2018 &  584 & 23 & NA & 0.4387755 & 0.17567568 & 0.9538773 & 0.3685121 & 0.000000000 & 0 & 0 & Autumn & No Holiday & Yes\\\\\n",
       "\\end{tabular}\n"
      ],
      "text/markdown": [
       "\n",
       "A tibble: 8760 × 14\n",
       "\n",
       "| DATE &lt;chr&gt; | RENTED_BIKE_COUNT &lt;dbl&gt; | HOUR &lt;dbl&gt; | TEMPERATURE &lt;dbl&gt; | HUMIDITY &lt;dbl&gt; | WIND_SPEED &lt;dbl&gt; | VISIBILITY &lt;dbl&gt; | DEW_POINT_TEMPERATURE &lt;dbl&gt; | SOLAR_RADIATION &lt;dbl&gt; | RAINFALL &lt;dbl&gt; | SNOWFALL &lt;dbl&gt; | SEASONS &lt;chr&gt; | HOLIDAY &lt;chr&gt; | FUNCTIONING_DAY &lt;chr&gt; |\n",
       "|---|---|---|---|---|---|---|---|---|---|---|---|---|---|\n",
       "| 01/12/2017 | 254 |  0 | NA | 0.3775510 | 0.29729730 | 1.0000000 | 0.2249135 | 0.000000000 | 0 | 0 | Winter | No Holiday | Yes |\n",
       "| 01/12/2017 | 204 |  1 | NA | 0.3877551 | 0.10810811 | 1.0000000 | 0.2249135 | 0.000000000 | 0 | 0 | Winter | No Holiday | Yes |\n",
       "| 01/12/2017 | 173 |  2 | NA | 0.3979592 | 0.13513514 | 1.0000000 | 0.2231834 | 0.000000000 | 0 | 0 | Winter | No Holiday | Yes |\n",
       "| 01/12/2017 | 107 |  3 | NA | 0.4081633 | 0.12162162 | 1.0000000 | 0.2249135 | 0.000000000 | 0 | 0 | Winter | No Holiday | Yes |\n",
       "| 01/12/2017 |  78 |  4 | NA | 0.3673469 | 0.31081081 | 1.0000000 | 0.2076125 | 0.000000000 | 0 | 0 | Winter | No Holiday | Yes |\n",
       "| 01/12/2017 | 100 |  5 | NA | 0.3775510 | 0.20270270 | 1.0000000 | 0.2058824 | 0.000000000 | 0 | 0 | Winter | No Holiday | Yes |\n",
       "| 01/12/2017 | 181 |  6 | NA | 0.3571429 | 0.17567568 | 1.0000000 | 0.1920415 | 0.000000000 | 0 | 0 | Winter | No Holiday | Yes |\n",
       "| 01/12/2017 | 460 |  7 | NA | 0.3877551 | 0.12162162 | 1.0000000 | 0.1955017 | 0.000000000 | 0 | 0 | Winter | No Holiday | Yes |\n",
       "| 01/12/2017 | 930 |  8 | NA | 0.3775510 | 0.14864865 | 1.0000000 | 0.1868512 | 0.002840909 | 0 | 0 | Winter | No Holiday | Yes |\n",
       "| 01/12/2017 | 490 |  9 | NA | 0.2755102 | 0.06756757 | 0.9635073 | 0.1418685 | 0.065340909 | 0 | 0 | Winter | No Holiday | Yes |\n",
       "| 01/12/2017 | 339 | 10 | NA | 0.2448980 | 0.16216216 | 0.9979726 | 0.1626298 | 0.184659091 | 0 | 0 | Winter | No Holiday | Yes |\n",
       "| 01/12/2017 | 360 | 11 | NA | 0.2142857 | 0.17567568 | 0.9675621 | 0.1799308 | 0.267045455 | 0 | 0 | Winter | No Holiday | Yes |\n",
       "| 01/12/2017 | 449 | 12 | NA | 0.2346939 | 0.18918919 | 1.0000000 | 0.2318339 | 0.315340909 | 0 | 0 | Winter | No Holiday | Yes |\n",
       "| 01/12/2017 | 451 | 13 | NA | 0.2551020 | 0.21621622 | 1.0000000 | 0.2595156 | 0.329545455 | 0 | 0 | Winter | No Holiday | Yes |\n",
       "| 01/12/2017 | 447 | 14 | NA | 0.2653061 | 0.27027027 | 1.0000000 | 0.2768166 | 0.286931818 | 0 | 0 | Winter | No Holiday | Yes |\n",
       "| 01/12/2017 | 463 | 15 | NA | 0.3673469 | 0.43243243 | 1.0000000 | 0.3321799 | 0.153409091 | 0 | 0 | Winter | No Holiday | Yes |\n",
       "| 01/12/2017 | 484 | 16 | NA | 0.5510204 | 0.56756757 | 0.3882413 | 0.4083045 | 0.068181818 | 0 | 0 | Winter | No Holiday | Yes |\n",
       "| 01/12/2017 | 555 | 17 | NA | 0.5918367 | 0.21621622 | 1.0000000 | 0.4169550 | 0.022727273 | 0 | 0 | Winter | No Holiday | Yes |\n",
       "| 01/12/2017 | 862 | 18 | NA | 0.6734694 | 0.18918919 | 1.0000000 | 0.4429066 | 0.000000000 | 0 | 0 | Winter | No Holiday | Yes |\n",
       "| 01/12/2017 | 600 | 19 | NA | 0.7857143 | 0.22972973 | 1.0000000 | 0.4688581 | 0.000000000 | 0 | 0 | Winter | No Holiday | Yes |\n",
       "| 01/12/2017 | 426 | 20 | NA | 0.8061224 | 0.20270270 | 0.9559047 | 0.4688581 | 0.000000000 | 0 | 0 | Winter | No Holiday | Yes |\n",
       "| 01/12/2017 | 405 | 21 | NA | 0.8265306 | 0.10810811 | 0.8413583 | 0.4671280 | 0.000000000 | 0 | 0 | Winter | No Holiday | Yes |\n",
       "| 01/12/2017 | 398 | 22 | NA | 0.8469388 | 0.20270270 | 0.6857577 | 0.4705882 | 0.000000000 | 0 | 0 | Winter | No Holiday | Yes |\n",
       "| 01/12/2017 | 323 | 23 | NA | 0.8571429 | 0.13513514 | 0.6274709 | 0.4671280 | 0.000000000 | 0 | 0 | Winter | No Holiday | Yes |\n",
       "| 02/12/2017 | 328 |  0 | NA | 0.8877551 | 0.14864865 | 0.4901166 | 0.4671280 | 0.000000000 | 0 | 0 | Winter | No Holiday | Yes |\n",
       "| 02/12/2017 | 308 |  1 | NA | 0.8775510 | 0.08108108 | 0.4880892 | 0.4567474 | 0.000000000 | 0 | 0 | Winter | No Holiday | Yes |\n",
       "| 02/12/2017 | 262 |  2 | NA | 0.8775510 | 0.20270270 | 0.6229093 | 0.4446367 | 0.000000000 | 0 | 0 | Winter | No Holiday | Yes |\n",
       "| 02/12/2017 | 167 |  3 | NA | 0.8265306 | 0.29729730 | 0.6051698 | 0.4221453 | 0.000000000 | 0 | 0 | Winter | No Holiday | Yes |\n",
       "| 02/12/2017 |  89 |  4 | NA | 0.8061224 | 0.27027027 | 0.5778003 | 0.4100346 | 0.000000000 | 0 | 0 | Winter | No Holiday | Yes |\n",
       "| 02/12/2017 |  79 |  5 | NA | 0.8061224 | 0.20270270 | 0.5955398 | 0.4065744 | 0.000000000 | 0 | 0 | Winter | No Holiday | Yes |\n",
       "| ⋮ | ⋮ | ⋮ | ⋮ | ⋮ | ⋮ | ⋮ | ⋮ | ⋮ | ⋮ | ⋮ | ⋮ | ⋮ | ⋮ |\n",
       "| 29/11/2018 | 1577 | 18 | NA | 0.4693878 | 0.12162162 | 0.7800304 | 0.4463668 | 0.000000000 | 0 | 0 | Autumn | No Holiday | Yes |\n",
       "| 29/11/2018 | 1026 | 19 | NA | 0.4897959 | 0.25675676 | 0.7921946 | 0.4446367 | 0.000000000 | 0 | 0 | Autumn | No Holiday | Yes |\n",
       "| 29/11/2018 |  818 | 20 | NA | 0.5510204 | 0.17567568 | 0.7131272 | 0.4550173 | 0.000000000 | 0 | 0 | Autumn | No Holiday | Yes |\n",
       "| 29/11/2018 |  792 | 21 | NA | 0.5612245 | 0.28378378 | 0.6102382 | 0.4532872 | 0.000000000 | 0 | 0 | Autumn | No Holiday | Yes |\n",
       "| 29/11/2018 |  726 | 22 | NA | 0.6020408 | 0.14864865 | 0.6036493 | 0.4567474 | 0.000000000 | 0 | 0 | Autumn | No Holiday | Yes |\n",
       "| 29/11/2018 |  559 | 23 | NA | 0.5714286 | 0.25675676 | 0.6928535 | 0.4377163 | 0.000000000 | 0 | 0 | Autumn | No Holiday | Yes |\n",
       "| 30/11/2018 |  474 |  0 | NA | 0.6326531 | 0.21621622 | 0.7014698 | 0.4480969 | 0.000000000 | 0 | 0 | Autumn | No Holiday | Yes |\n",
       "| 30/11/2018 |  456 |  1 | NA | 0.6428571 | 0.27027027 | 0.6852509 | 0.4446367 | 0.000000000 | 0 | 0 | Autumn | No Holiday | Yes |\n",
       "| 30/11/2018 |  300 |  2 | NA | 0.6734694 | 0.06756757 | 0.6796756 | 0.4429066 | 0.000000000 | 0 | 0 | Autumn | No Holiday | Yes |\n",
       "| 30/11/2018 |  213 |  3 | NA | 0.7040816 | 0.12162162 | 0.6644703 | 0.4411765 | 0.000000000 | 0 | 0 | Autumn | No Holiday | Yes |\n",
       "| 30/11/2018 |  116 |  4 | NA | 0.7244898 | 0.05405405 | 0.6680182 | 0.4411765 | 0.000000000 | 0 | 0 | Autumn | No Holiday | Yes |\n",
       "| 30/11/2018 |  149 |  5 | NA | 0.6734694 | 0.06756757 | 0.6634567 | 0.4221453 | 0.000000000 | 0 | 0 | Autumn | No Holiday | Yes |\n",
       "| 30/11/2018 |  293 |  6 | NA | 0.6938776 | 0.10810811 | 0.6563609 | 0.4273356 | 0.000000000 | 0 | 0 | Autumn | No Holiday | Yes |\n",
       "| 30/11/2018 |  750 |  7 | NA | 0.7142857 | 0.10810811 | 0.6710593 | 0.4273356 | 0.000000000 | 0 | 0 | Autumn | No Holiday | Yes |\n",
       "| 30/11/2018 | 1527 |  8 | NA | 0.6938776 | 0.14864865 | 0.6381145 | 0.4152249 | 0.005681818 | 0 | 0 | Autumn | No Holiday | Yes |\n",
       "| 30/11/2018 |  809 |  9 | NA | 0.5816327 | 0.08108108 | 0.6300051 | 0.3944637 | 0.127840909 | 0 | 0 | Autumn | No Holiday | Yes |\n",
       "| 30/11/2018 |  554 | 10 | NA | 0.5204082 | 0.10810811 | 0.5078561 | 0.4065744 | 0.286931818 | 0 | 0 | Autumn | No Holiday | Yes |\n",
       "| 30/11/2018 |  642 | 11 | NA | 0.4387755 | 0.24324324 | 0.5828687 | 0.4221453 | 0.392045455 | 0 | 0 | Autumn | No Holiday | Yes |\n",
       "| 30/11/2018 |  720 | 12 | NA | 0.3571429 | 0.17567568 | 0.7004562 | 0.3944637 | 0.482954545 | 0 | 0 | Autumn | No Holiday | Yes |\n",
       "| 30/11/2018 |  740 | 13 | NA | 0.2448980 | 0.37837838 | 0.9178915 | 0.3200692 | 0.519886364 | 0 | 0 | Autumn | No Holiday | Yes |\n",
       "| 30/11/2018 |  761 | 14 | NA | 0.2040816 | 0.29729730 | 1.0000000 | 0.2906574 | 0.474431818 | 0 | 0 | Autumn | No Holiday | Yes |\n",
       "| 30/11/2018 |  768 | 15 | NA | 0.2040816 | 0.44594595 | 0.9969589 | 0.2802768 | 0.343750000 | 0 | 0 | Autumn | No Holiday | Yes |\n",
       "| 30/11/2018 |  837 | 16 | NA | 0.2346939 | 0.20270270 | 0.9721237 | 0.3114187 | 0.204545455 | 0 | 0 | Autumn | No Holiday | Yes |\n",
       "| 30/11/2018 | 1047 | 17 | NA | 0.2959184 | 0.28378378 | 0.9376584 | 0.3442907 | 0.065340909 | 0 | 0 | Autumn | No Holiday | Yes |\n",
       "| 30/11/2018 | 1384 | 18 | NA | 0.3469388 | 0.25675676 | 0.8281804 | 0.3598616 | 0.000000000 | 0 | 0 | Autumn | No Holiday | Yes |\n",
       "| 30/11/2018 | 1003 | 19 | NA | 0.3469388 | 0.35135135 | 0.9462747 | 0.3512111 | 0.000000000 | 0 | 0 | Autumn | No Holiday | Yes |\n",
       "| 30/11/2018 |  764 | 20 | NA | 0.3775510 | 0.31081081 | 1.0000000 | 0.3581315 | 0.000000000 | 0 | 0 | Autumn | No Holiday | Yes |\n",
       "| 30/11/2018 |  694 | 21 | NA | 0.3979592 | 0.04054054 | 0.9837810 | 0.3581315 | 0.000000000 | 0 | 0 | Autumn | No Holiday | Yes |\n",
       "| 30/11/2018 |  712 | 22 | NA | 0.4183673 | 0.13513514 | 0.9285352 | 0.3598616 | 0.000000000 | 0 | 0 | Autumn | No Holiday | Yes |\n",
       "| 30/11/2018 |  584 | 23 | NA | 0.4387755 | 0.17567568 | 0.9538773 | 0.3685121 | 0.000000000 | 0 | 0 | Autumn | No Holiday | Yes |\n",
       "\n"
      ],
      "text/plain": [
       "     DATE       RENTED_BIKE_COUNT HOUR TEMPERATURE HUMIDITY  WIND_SPEED\n",
       "1    01/12/2017 254                0   NA          0.3775510 0.29729730\n",
       "2    01/12/2017 204                1   NA          0.3877551 0.10810811\n",
       "3    01/12/2017 173                2   NA          0.3979592 0.13513514\n",
       "4    01/12/2017 107                3   NA          0.4081633 0.12162162\n",
       "5    01/12/2017  78                4   NA          0.3673469 0.31081081\n",
       "6    01/12/2017 100                5   NA          0.3775510 0.20270270\n",
       "7    01/12/2017 181                6   NA          0.3571429 0.17567568\n",
       "8    01/12/2017 460                7   NA          0.3877551 0.12162162\n",
       "9    01/12/2017 930                8   NA          0.3775510 0.14864865\n",
       "10   01/12/2017 490                9   NA          0.2755102 0.06756757\n",
       "11   01/12/2017 339               10   NA          0.2448980 0.16216216\n",
       "12   01/12/2017 360               11   NA          0.2142857 0.17567568\n",
       "13   01/12/2017 449               12   NA          0.2346939 0.18918919\n",
       "14   01/12/2017 451               13   NA          0.2551020 0.21621622\n",
       "15   01/12/2017 447               14   NA          0.2653061 0.27027027\n",
       "16   01/12/2017 463               15   NA          0.3673469 0.43243243\n",
       "17   01/12/2017 484               16   NA          0.5510204 0.56756757\n",
       "18   01/12/2017 555               17   NA          0.5918367 0.21621622\n",
       "19   01/12/2017 862               18   NA          0.6734694 0.18918919\n",
       "20   01/12/2017 600               19   NA          0.7857143 0.22972973\n",
       "21   01/12/2017 426               20   NA          0.8061224 0.20270270\n",
       "22   01/12/2017 405               21   NA          0.8265306 0.10810811\n",
       "23   01/12/2017 398               22   NA          0.8469388 0.20270270\n",
       "24   01/12/2017 323               23   NA          0.8571429 0.13513514\n",
       "25   02/12/2017 328                0   NA          0.8877551 0.14864865\n",
       "26   02/12/2017 308                1   NA          0.8775510 0.08108108\n",
       "27   02/12/2017 262                2   NA          0.8775510 0.20270270\n",
       "28   02/12/2017 167                3   NA          0.8265306 0.29729730\n",
       "29   02/12/2017  89                4   NA          0.8061224 0.27027027\n",
       "30   02/12/2017  79                5   NA          0.8061224 0.20270270\n",
       "⋮    ⋮          ⋮                 ⋮    ⋮           ⋮         ⋮         \n",
       "8731 29/11/2018 1577              18   NA          0.4693878 0.12162162\n",
       "8732 29/11/2018 1026              19   NA          0.4897959 0.25675676\n",
       "8733 29/11/2018  818              20   NA          0.5510204 0.17567568\n",
       "8734 29/11/2018  792              21   NA          0.5612245 0.28378378\n",
       "8735 29/11/2018  726              22   NA          0.6020408 0.14864865\n",
       "8736 29/11/2018  559              23   NA          0.5714286 0.25675676\n",
       "8737 30/11/2018  474               0   NA          0.6326531 0.21621622\n",
       "8738 30/11/2018  456               1   NA          0.6428571 0.27027027\n",
       "8739 30/11/2018  300               2   NA          0.6734694 0.06756757\n",
       "8740 30/11/2018  213               3   NA          0.7040816 0.12162162\n",
       "8741 30/11/2018  116               4   NA          0.7244898 0.05405405\n",
       "8742 30/11/2018  149               5   NA          0.6734694 0.06756757\n",
       "8743 30/11/2018  293               6   NA          0.6938776 0.10810811\n",
       "8744 30/11/2018  750               7   NA          0.7142857 0.10810811\n",
       "8745 30/11/2018 1527               8   NA          0.6938776 0.14864865\n",
       "8746 30/11/2018  809               9   NA          0.5816327 0.08108108\n",
       "8747 30/11/2018  554              10   NA          0.5204082 0.10810811\n",
       "8748 30/11/2018  642              11   NA          0.4387755 0.24324324\n",
       "8749 30/11/2018  720              12   NA          0.3571429 0.17567568\n",
       "8750 30/11/2018  740              13   NA          0.2448980 0.37837838\n",
       "8751 30/11/2018  761              14   NA          0.2040816 0.29729730\n",
       "8752 30/11/2018  768              15   NA          0.2040816 0.44594595\n",
       "8753 30/11/2018  837              16   NA          0.2346939 0.20270270\n",
       "8754 30/11/2018 1047              17   NA          0.2959184 0.28378378\n",
       "8755 30/11/2018 1384              18   NA          0.3469388 0.25675676\n",
       "8756 30/11/2018 1003              19   NA          0.3469388 0.35135135\n",
       "8757 30/11/2018  764              20   NA          0.3775510 0.31081081\n",
       "8758 30/11/2018  694              21   NA          0.3979592 0.04054054\n",
       "8759 30/11/2018  712              22   NA          0.4183673 0.13513514\n",
       "8760 30/11/2018  584              23   NA          0.4387755 0.17567568\n",
       "     VISIBILITY DEW_POINT_TEMPERATURE SOLAR_RADIATION RAINFALL SNOWFALL SEASONS\n",
       "1    1.0000000  0.2249135             0.000000000     0        0        Winter \n",
       "2    1.0000000  0.2249135             0.000000000     0        0        Winter \n",
       "3    1.0000000  0.2231834             0.000000000     0        0        Winter \n",
       "4    1.0000000  0.2249135             0.000000000     0        0        Winter \n",
       "5    1.0000000  0.2076125             0.000000000     0        0        Winter \n",
       "6    1.0000000  0.2058824             0.000000000     0        0        Winter \n",
       "7    1.0000000  0.1920415             0.000000000     0        0        Winter \n",
       "8    1.0000000  0.1955017             0.000000000     0        0        Winter \n",
       "9    1.0000000  0.1868512             0.002840909     0        0        Winter \n",
       "10   0.9635073  0.1418685             0.065340909     0        0        Winter \n",
       "11   0.9979726  0.1626298             0.184659091     0        0        Winter \n",
       "12   0.9675621  0.1799308             0.267045455     0        0        Winter \n",
       "13   1.0000000  0.2318339             0.315340909     0        0        Winter \n",
       "14   1.0000000  0.2595156             0.329545455     0        0        Winter \n",
       "15   1.0000000  0.2768166             0.286931818     0        0        Winter \n",
       "16   1.0000000  0.3321799             0.153409091     0        0        Winter \n",
       "17   0.3882413  0.4083045             0.068181818     0        0        Winter \n",
       "18   1.0000000  0.4169550             0.022727273     0        0        Winter \n",
       "19   1.0000000  0.4429066             0.000000000     0        0        Winter \n",
       "20   1.0000000  0.4688581             0.000000000     0        0        Winter \n",
       "21   0.9559047  0.4688581             0.000000000     0        0        Winter \n",
       "22   0.8413583  0.4671280             0.000000000     0        0        Winter \n",
       "23   0.6857577  0.4705882             0.000000000     0        0        Winter \n",
       "24   0.6274709  0.4671280             0.000000000     0        0        Winter \n",
       "25   0.4901166  0.4671280             0.000000000     0        0        Winter \n",
       "26   0.4880892  0.4567474             0.000000000     0        0        Winter \n",
       "27   0.6229093  0.4446367             0.000000000     0        0        Winter \n",
       "28   0.6051698  0.4221453             0.000000000     0        0        Winter \n",
       "29   0.5778003  0.4100346             0.000000000     0        0        Winter \n",
       "30   0.5955398  0.4065744             0.000000000     0        0        Winter \n",
       "⋮    ⋮          ⋮                     ⋮               ⋮        ⋮        ⋮      \n",
       "8731 0.7800304  0.4463668             0.000000000     0        0        Autumn \n",
       "8732 0.7921946  0.4446367             0.000000000     0        0        Autumn \n",
       "8733 0.7131272  0.4550173             0.000000000     0        0        Autumn \n",
       "8734 0.6102382  0.4532872             0.000000000     0        0        Autumn \n",
       "8735 0.6036493  0.4567474             0.000000000     0        0        Autumn \n",
       "8736 0.6928535  0.4377163             0.000000000     0        0        Autumn \n",
       "8737 0.7014698  0.4480969             0.000000000     0        0        Autumn \n",
       "8738 0.6852509  0.4446367             0.000000000     0        0        Autumn \n",
       "8739 0.6796756  0.4429066             0.000000000     0        0        Autumn \n",
       "8740 0.6644703  0.4411765             0.000000000     0        0        Autumn \n",
       "8741 0.6680182  0.4411765             0.000000000     0        0        Autumn \n",
       "8742 0.6634567  0.4221453             0.000000000     0        0        Autumn \n",
       "8743 0.6563609  0.4273356             0.000000000     0        0        Autumn \n",
       "8744 0.6710593  0.4273356             0.000000000     0        0        Autumn \n",
       "8745 0.6381145  0.4152249             0.005681818     0        0        Autumn \n",
       "8746 0.6300051  0.3944637             0.127840909     0        0        Autumn \n",
       "8747 0.5078561  0.4065744             0.286931818     0        0        Autumn \n",
       "8748 0.5828687  0.4221453             0.392045455     0        0        Autumn \n",
       "8749 0.7004562  0.3944637             0.482954545     0        0        Autumn \n",
       "8750 0.9178915  0.3200692             0.519886364     0        0        Autumn \n",
       "8751 1.0000000  0.2906574             0.474431818     0        0        Autumn \n",
       "8752 0.9969589  0.2802768             0.343750000     0        0        Autumn \n",
       "8753 0.9721237  0.3114187             0.204545455     0        0        Autumn \n",
       "8754 0.9376584  0.3442907             0.065340909     0        0        Autumn \n",
       "8755 0.8281804  0.3598616             0.000000000     0        0        Autumn \n",
       "8756 0.9462747  0.3512111             0.000000000     0        0        Autumn \n",
       "8757 1.0000000  0.3581315             0.000000000     0        0        Autumn \n",
       "8758 0.9837810  0.3581315             0.000000000     0        0        Autumn \n",
       "8759 0.9285352  0.3598616             0.000000000     0        0        Autumn \n",
       "8760 0.9538773  0.3685121             0.000000000     0        0        Autumn \n",
       "     HOLIDAY    FUNCTIONING_DAY\n",
       "1    No Holiday Yes            \n",
       "2    No Holiday Yes            \n",
       "3    No Holiday Yes            \n",
       "4    No Holiday Yes            \n",
       "5    No Holiday Yes            \n",
       "6    No Holiday Yes            \n",
       "7    No Holiday Yes            \n",
       "8    No Holiday Yes            \n",
       "9    No Holiday Yes            \n",
       "10   No Holiday Yes            \n",
       "11   No Holiday Yes            \n",
       "12   No Holiday Yes            \n",
       "13   No Holiday Yes            \n",
       "14   No Holiday Yes            \n",
       "15   No Holiday Yes            \n",
       "16   No Holiday Yes            \n",
       "17   No Holiday Yes            \n",
       "18   No Holiday Yes            \n",
       "19   No Holiday Yes            \n",
       "20   No Holiday Yes            \n",
       "21   No Holiday Yes            \n",
       "22   No Holiday Yes            \n",
       "23   No Holiday Yes            \n",
       "24   No Holiday Yes            \n",
       "25   No Holiday Yes            \n",
       "26   No Holiday Yes            \n",
       "27   No Holiday Yes            \n",
       "28   No Holiday Yes            \n",
       "29   No Holiday Yes            \n",
       "30   No Holiday Yes            \n",
       "⋮    ⋮          ⋮              \n",
       "8731 No Holiday Yes            \n",
       "8732 No Holiday Yes            \n",
       "8733 No Holiday Yes            \n",
       "8734 No Holiday Yes            \n",
       "8735 No Holiday Yes            \n",
       "8736 No Holiday Yes            \n",
       "8737 No Holiday Yes            \n",
       "8738 No Holiday Yes            \n",
       "8739 No Holiday Yes            \n",
       "8740 No Holiday Yes            \n",
       "8741 No Holiday Yes            \n",
       "8742 No Holiday Yes            \n",
       "8743 No Holiday Yes            \n",
       "8744 No Holiday Yes            \n",
       "8745 No Holiday Yes            \n",
       "8746 No Holiday Yes            \n",
       "8747 No Holiday Yes            \n",
       "8748 No Holiday Yes            \n",
       "8749 No Holiday Yes            \n",
       "8750 No Holiday Yes            \n",
       "8751 No Holiday Yes            \n",
       "8752 No Holiday Yes            \n",
       "8753 No Holiday Yes            \n",
       "8754 No Holiday Yes            \n",
       "8755 No Holiday Yes            \n",
       "8756 No Holiday Yes            \n",
       "8757 No Holiday Yes            \n",
       "8758 No Holiday Yes            \n",
       "8759 No Holiday Yes            \n",
       "8760 No Holiday Yes            "
      ]
     },
     "metadata": {},
     "output_type": "display_data"
    },
    {
     "data": {
      "text/html": [
       "<table class=\"dataframe\">\n",
       "<caption>A tibble: 6 × 14</caption>\n",
       "<thead>\n",
       "\t<tr><th scope=col>DATE</th><th scope=col>RENTED_BIKE_COUNT</th><th scope=col>HOUR</th><th scope=col>TEMPERATURE</th><th scope=col>HUMIDITY</th><th scope=col>WIND_SPEED</th><th scope=col>VISIBILITY</th><th scope=col>DEW_POINT_TEMPERATURE</th><th scope=col>SOLAR_RADIATION</th><th scope=col>RAINFALL</th><th scope=col>SNOWFALL</th><th scope=col>SEASONS</th><th scope=col>HOLIDAY</th><th scope=col>FUNCTIONING_DAY</th></tr>\n",
       "\t<tr><th scope=col>&lt;chr&gt;</th><th scope=col>&lt;dbl&gt;</th><th scope=col>&lt;dbl&gt;</th><th scope=col>&lt;dbl&gt;</th><th scope=col>&lt;dbl&gt;</th><th scope=col>&lt;dbl&gt;</th><th scope=col>&lt;dbl&gt;</th><th scope=col>&lt;dbl&gt;</th><th scope=col>&lt;dbl&gt;</th><th scope=col>&lt;dbl&gt;</th><th scope=col>&lt;dbl&gt;</th><th scope=col>&lt;chr&gt;</th><th scope=col>&lt;chr&gt;</th><th scope=col>&lt;chr&gt;</th></tr>\n",
       "</thead>\n",
       "<tbody>\n",
       "\t<tr><td>01/12/2017</td><td>254</td><td>0</td><td>-5.2</td><td>37</td><td>2.2</td><td>2000</td><td>-17.6</td><td>0</td><td>0</td><td>0</td><td>Winter</td><td>No Holiday</td><td>Yes</td></tr>\n",
       "\t<tr><td>01/12/2017</td><td>204</td><td>1</td><td>-5.5</td><td>38</td><td>0.8</td><td>2000</td><td>-17.6</td><td>0</td><td>0</td><td>0</td><td>Winter</td><td>No Holiday</td><td>Yes</td></tr>\n",
       "\t<tr><td>01/12/2017</td><td>173</td><td>2</td><td>-6.0</td><td>39</td><td>1.0</td><td>2000</td><td>-17.7</td><td>0</td><td>0</td><td>0</td><td>Winter</td><td>No Holiday</td><td>Yes</td></tr>\n",
       "\t<tr><td>01/12/2017</td><td>107</td><td>3</td><td>-6.2</td><td>40</td><td>0.9</td><td>2000</td><td>-17.6</td><td>0</td><td>0</td><td>0</td><td>Winter</td><td>No Holiday</td><td>Yes</td></tr>\n",
       "\t<tr><td>01/12/2017</td><td> 78</td><td>4</td><td>-6.0</td><td>36</td><td>2.3</td><td>2000</td><td>-18.6</td><td>0</td><td>0</td><td>0</td><td>Winter</td><td>No Holiday</td><td>Yes</td></tr>\n",
       "\t<tr><td>01/12/2017</td><td>100</td><td>5</td><td>-6.4</td><td>37</td><td>1.5</td><td>2000</td><td>-18.7</td><td>0</td><td>0</td><td>0</td><td>Winter</td><td>No Holiday</td><td>Yes</td></tr>\n",
       "</tbody>\n",
       "</table>\n"
      ],
      "text/latex": [
       "A tibble: 6 × 14\n",
       "\\begin{tabular}{llllllllllllll}\n",
       " DATE & RENTED\\_BIKE\\_COUNT & HOUR & TEMPERATURE & HUMIDITY & WIND\\_SPEED & VISIBILITY & DEW\\_POINT\\_TEMPERATURE & SOLAR\\_RADIATION & RAINFALL & SNOWFALL & SEASONS & HOLIDAY & FUNCTIONING\\_DAY\\\\\n",
       " <chr> & <dbl> & <dbl> & <dbl> & <dbl> & <dbl> & <dbl> & <dbl> & <dbl> & <dbl> & <dbl> & <chr> & <chr> & <chr>\\\\\n",
       "\\hline\n",
       "\t 01/12/2017 & 254 & 0 & -5.2 & 37 & 2.2 & 2000 & -17.6 & 0 & 0 & 0 & Winter & No Holiday & Yes\\\\\n",
       "\t 01/12/2017 & 204 & 1 & -5.5 & 38 & 0.8 & 2000 & -17.6 & 0 & 0 & 0 & Winter & No Holiday & Yes\\\\\n",
       "\t 01/12/2017 & 173 & 2 & -6.0 & 39 & 1.0 & 2000 & -17.7 & 0 & 0 & 0 & Winter & No Holiday & Yes\\\\\n",
       "\t 01/12/2017 & 107 & 3 & -6.2 & 40 & 0.9 & 2000 & -17.6 & 0 & 0 & 0 & Winter & No Holiday & Yes\\\\\n",
       "\t 01/12/2017 &  78 & 4 & -6.0 & 36 & 2.3 & 2000 & -18.6 & 0 & 0 & 0 & Winter & No Holiday & Yes\\\\\n",
       "\t 01/12/2017 & 100 & 5 & -6.4 & 37 & 1.5 & 2000 & -18.7 & 0 & 0 & 0 & Winter & No Holiday & Yes\\\\\n",
       "\\end{tabular}\n"
      ],
      "text/markdown": [
       "\n",
       "A tibble: 6 × 14\n",
       "\n",
       "| DATE &lt;chr&gt; | RENTED_BIKE_COUNT &lt;dbl&gt; | HOUR &lt;dbl&gt; | TEMPERATURE &lt;dbl&gt; | HUMIDITY &lt;dbl&gt; | WIND_SPEED &lt;dbl&gt; | VISIBILITY &lt;dbl&gt; | DEW_POINT_TEMPERATURE &lt;dbl&gt; | SOLAR_RADIATION &lt;dbl&gt; | RAINFALL &lt;dbl&gt; | SNOWFALL &lt;dbl&gt; | SEASONS &lt;chr&gt; | HOLIDAY &lt;chr&gt; | FUNCTIONING_DAY &lt;chr&gt; |\n",
       "|---|---|---|---|---|---|---|---|---|---|---|---|---|---|\n",
       "| 01/12/2017 | 254 | 0 | -5.2 | 37 | 2.2 | 2000 | -17.6 | 0 | 0 | 0 | Winter | No Holiday | Yes |\n",
       "| 01/12/2017 | 204 | 1 | -5.5 | 38 | 0.8 | 2000 | -17.6 | 0 | 0 | 0 | Winter | No Holiday | Yes |\n",
       "| 01/12/2017 | 173 | 2 | -6.0 | 39 | 1.0 | 2000 | -17.7 | 0 | 0 | 0 | Winter | No Holiday | Yes |\n",
       "| 01/12/2017 | 107 | 3 | -6.2 | 40 | 0.9 | 2000 | -17.6 | 0 | 0 | 0 | Winter | No Holiday | Yes |\n",
       "| 01/12/2017 |  78 | 4 | -6.0 | 36 | 2.3 | 2000 | -18.6 | 0 | 0 | 0 | Winter | No Holiday | Yes |\n",
       "| 01/12/2017 | 100 | 5 | -6.4 | 37 | 1.5 | 2000 | -18.7 | 0 | 0 | 0 | Winter | No Holiday | Yes |\n",
       "\n"
      ],
      "text/plain": [
       "  DATE       RENTED_BIKE_COUNT HOUR TEMPERATURE HUMIDITY WIND_SPEED VISIBILITY\n",
       "1 01/12/2017 254               0    -5.2        37       2.2        2000      \n",
       "2 01/12/2017 204               1    -5.5        38       0.8        2000      \n",
       "3 01/12/2017 173               2    -6.0        39       1.0        2000      \n",
       "4 01/12/2017 107               3    -6.2        40       0.9        2000      \n",
       "5 01/12/2017  78               4    -6.0        36       2.3        2000      \n",
       "6 01/12/2017 100               5    -6.4        37       1.5        2000      \n",
       "  DEW_POINT_TEMPERATURE SOLAR_RADIATION RAINFALL SNOWFALL SEASONS HOLIDAY   \n",
       "1 -17.6                 0               0        0        Winter  No Holiday\n",
       "2 -17.6                 0               0        0        Winter  No Holiday\n",
       "3 -17.7                 0               0        0        Winter  No Holiday\n",
       "4 -17.6                 0               0        0        Winter  No Holiday\n",
       "5 -18.6                 0               0        0        Winter  No Holiday\n",
       "6 -18.7                 0               0        0        Winter  No Holiday\n",
       "  FUNCTIONING_DAY\n",
       "1 Yes            \n",
       "2 Yes            \n",
       "3 Yes            \n",
       "4 Yes            \n",
       "5 Yes            \n",
       "6 Yes            "
      ]
     },
     "metadata": {},
     "output_type": "display_data"
    }
   ],
   "source": [
    "# Use the `mutate()` function to apply min-max normalization on columns \n",
    "# `RENTED_BIKE_COUNT`, `TEMPERATURE`, `HUMIDITY`, `WIND_SPEED`, `VISIBILITY`, `DEW_POINT_TEMPERATURE`, `SOLAR_RADIATION`, `RAINFALL`, `SNOWFALL`\n",
    "minmax_norm <- function(x){       \n",
    "  (x-min(x))/(max(x)-min(x))}\n",
    "\n",
    "bike_sharing_df %>%              \n",
    "  mutate(TEMPERATURE = minmax_norm(TEMPERATURE),\n",
    "         HUMIDITY = minmax_norm(HUMIDITY),\n",
    "         WIND_SPEED = minmax_norm(WIND_SPEED),\n",
    "         VISIBILITY = minmax_norm(VISIBILITY),\n",
    "         DEW_POINT_TEMPERATURE = minmax_norm(DEW_POINT_TEMPERATURE),\n",
    "         SOLAR_RADIATION = minmax_norm(SOLAR_RADIATION),\n",
    "         RAINFALL = minmax_norm(RAINFALL),\n",
    "         SNOWFALL = minmax_norm(SNOWFALL)) \n",
    "head(bike_sharing_df)"
   ]
  },
  {
   "cell_type": "code",
   "execution_count": 17,
   "id": "d6fddeb3-4c98-4219-bb1e-c2c59411c46d",
   "metadata": {},
   "outputs": [
    {
     "data": {
      "text/plain": [
       "     DATE           RENTED_BIKE_COUNT      HOUR        TEMPERATURE    \n",
       " Length:8760        Min.   :   2.0    Min.   : 0.00   Min.   :-17.80  \n",
       " Class :character   1st Qu.: 214.0    1st Qu.: 5.75   1st Qu.:  3.40  \n",
       " Mode  :character   Median : 542.0    Median :11.50   Median : 13.70  \n",
       "                    Mean   : 729.2    Mean   :11.50   Mean   : 12.87  \n",
       "                    3rd Qu.:1084.0    3rd Qu.:17.25   3rd Qu.: 22.50  \n",
       "                    Max.   :3556.0    Max.   :23.00   Max.   : 39.40  \n",
       "                    NA's   :295                       NA's   :11      \n",
       "    HUMIDITY       WIND_SPEED      VISIBILITY   DEW_POINT_TEMPERATURE\n",
       " Min.   : 0.00   Min.   :0.000   Min.   :  27   Min.   :-30.600      \n",
       " 1st Qu.:42.00   1st Qu.:0.900   1st Qu.: 940   1st Qu.: -4.700      \n",
       " Median :57.00   Median :1.500   Median :1698   Median :  5.100      \n",
       " Mean   :58.23   Mean   :1.725   Mean   :1437   Mean   :  4.074      \n",
       " 3rd Qu.:74.00   3rd Qu.:2.300   3rd Qu.:2000   3rd Qu.: 14.800      \n",
       " Max.   :98.00   Max.   :7.400   Max.   :2000   Max.   : 27.200      \n",
       "                                                                     \n",
       " SOLAR_RADIATION     RAINFALL          SNOWFALL         SEASONS         \n",
       " Min.   :0.0000   Min.   : 0.0000   Min.   :0.00000   Length:8760       \n",
       " 1st Qu.:0.0000   1st Qu.: 0.0000   1st Qu.:0.00000   Class :character  \n",
       " Median :0.0100   Median : 0.0000   Median :0.00000   Mode  :character  \n",
       " Mean   :0.5691   Mean   : 0.1487   Mean   :0.07507                     \n",
       " 3rd Qu.:0.9300   3rd Qu.: 0.0000   3rd Qu.:0.00000                     \n",
       " Max.   :3.5200   Max.   :35.0000   Max.   :8.80000                     \n",
       "                                                                        \n",
       "   HOLIDAY          FUNCTIONING_DAY   \n",
       " Length:8760        Length:8760       \n",
       " Class :character   Class :character  \n",
       " Mode  :character   Mode  :character  \n",
       "                                      \n",
       "                                      \n",
       "                                      \n",
       "                                      "
      ]
     },
     "metadata": {},
     "output_type": "display_data"
    }
   ],
   "source": [
    "# Print the summary of the dataset again to make sure the numeric columns range between 0 and 1\n",
    "summary(bike_sharing_df)"
   ]
  },
  {
   "cell_type": "code",
   "execution_count": 18,
   "id": "5c9aa454-4150-4fca-be96-ae157750a41a",
   "metadata": {},
   "outputs": [],
   "source": [
    "# Save the dataset as `seoul_bike_sharing_converted_normalized.csv`\n",
    "# write_csv(dataframe, \"seoul_bike_sharing_converted_normalized.csv\")\n",
    "write_csv(bike_sharing_df, \"seoul_bike_sharing_converted_normalized.csv\")"
   ]
  },
  {
   "cell_type": "markdown",
   "id": "f2f68902-036b-4339-88eb-0ad2b7f8686e",
   "metadata": {},
   "source": [
    "## Standardize the column names again for the new datasets\n"
   ]
  },
  {
   "cell_type": "markdown",
   "id": "96b04ccb-d05b-44f2-b4e1-6ac7caa1d36a",
   "metadata": {},
   "source": [
    "Since you have added many new indicator variables, you need to standardize their column names again by using the following code:\n"
   ]
  },
  {
   "cell_type": "code",
   "execution_count": 19,
   "id": "569bcd6f-b5c4-436a-b446-c01e213279a7",
   "metadata": {},
   "outputs": [
    {
     "name": "stderr",
     "output_type": "stream",
     "text": [
      "\u001b[1m\u001b[22mNew names:\n",
      "\u001b[36m•\u001b[39m `` -> `...1`\n",
      "\u001b[1mRows: \u001b[22m\u001b[34m8465\u001b[39m \u001b[1mColumns: \u001b[22m\u001b[34m15\u001b[39m\n",
      "\u001b[36m──\u001b[39m \u001b[1mColumn specification\u001b[22m \u001b[36m────────────────────────────────────────────────────────\u001b[39m\n",
      "\u001b[1mDelimiter:\u001b[22m \",\"\n",
      "\u001b[31mchr\u001b[39m  (4): DATE, SEASONS, HOLIDAY, FUNCTIONING_DAY\n",
      "\u001b[32mdbl\u001b[39m (11): ...1, RENTED_BIKE_COUNT, HOUR, TEMPERATURE, HUMIDITY, WIND_SPEED, ...\n",
      "\n",
      "\u001b[36mℹ\u001b[39m Use `spec()` to retrieve the full column specification for this data.\n",
      "\u001b[36mℹ\u001b[39m Specify the column types or set `show_col_types = FALSE` to quiet this message.\n",
      "\u001b[1mRows: \u001b[22m\u001b[34m8465\u001b[39m \u001b[1mColumns: \u001b[22m\u001b[34m41\u001b[39m\n",
      "\u001b[36m──\u001b[39m \u001b[1mColumn specification\u001b[22m \u001b[36m────────────────────────────────────────────────────────\u001b[39m\n",
      "\u001b[1mDelimiter:\u001b[22m \",\"\n",
      "\u001b[31mchr\u001b[39m  (1): DATE\n",
      "\u001b[32mdbl\u001b[39m (40): RENTED_BIKE_COUNT, TEMPERATURE, HUMIDITY, WIND_SPEED, VISIBILITY, ...\n",
      "\n",
      "\u001b[36mℹ\u001b[39m Use `spec()` to retrieve the full column specification for this data.\n",
      "\u001b[36mℹ\u001b[39m Specify the column types or set `show_col_types = FALSE` to quiet this message.\n",
      "\u001b[1mRows: \u001b[22m\u001b[34m8760\u001b[39m \u001b[1mColumns: \u001b[22m\u001b[34m14\u001b[39m\n",
      "\u001b[36m──\u001b[39m \u001b[1mColumn specification\u001b[22m \u001b[36m────────────────────────────────────────────────────────\u001b[39m\n",
      "\u001b[1mDelimiter:\u001b[22m \",\"\n",
      "\u001b[31mchr\u001b[39m  (4): DATE, SEASONS, HOLIDAY, FUNCTIONING_DAY\n",
      "\u001b[32mdbl\u001b[39m (10): RENTED_BIKE_COUNT, HOUR, TEMPERATURE, HUMIDITY, WIND_SPEED, VISIBI...\n",
      "\n",
      "\u001b[36mℹ\u001b[39m Use `spec()` to retrieve the full column specification for this data.\n",
      "\u001b[36mℹ\u001b[39m Specify the column types or set `show_col_types = FALSE` to quiet this message.\n"
     ]
    }
   ],
   "source": [
    "# Dataset list\n",
    "dataset_list <- c('seoul_bike_sharing.csv', 'seoul_bike_sharing_converted.csv', 'seoul_bike_sharing_converted_normalized.csv')\n",
    "\n",
    "for (dataset_name in dataset_list){\n",
    "    # Read dataset\n",
    "    dataset <- read_csv(dataset_name)\n",
    "    # Standardized its columns:\n",
    "    # Convert all columns names to uppercase\n",
    "    names(dataset) <- toupper(names(dataset))\n",
    "    # Replace any white space separators by underscore, using str_replace_all function\n",
    "    names(dataset) <- str_replace_all(names(dataset), \" \", \"_\")\n",
    "    # Save the dataset back\n",
    "    write.csv(dataset, dataset_name, row.names=FALSE)\n",
    "}"
   ]
  },
  {
   "cell_type": "markdown",
   "id": "ae3e7968-bf3f-4694-a6dc-7691dd695870",
   "metadata": {},
   "source": [
    "# Next Steps\n"
   ]
  },
  {
   "cell_type": "markdown",
   "id": "b4713c14-5a30-4548-8cda-96d5de13ab63",
   "metadata": {},
   "source": [
    "Great! Now that you have processed all of the necessary datasets, you are ready to perform exploratory data analysis to get some inital insights from them.\n"
   ]
  },
  {
   "cell_type": "markdown",
   "id": "9ed16288-b144-4807-b17e-9286ef57ba6f",
   "metadata": {},
   "source": [
    "## Authors\n",
    "\n",
    "<a href=\"https://www.linkedin.com/in/yan-luo-96288783/?utm_medium=Exinfluencer&utm_source=Exinfluencer&utm_content=000026UJ&utm_term=10006555&utm_id=NA-SkillsNetwork-Channel-SkillsNetworkCoursesIBMDeveloperSkillsNetworkRP0321ENSkillsNetwork878-2022-01-01\" target=\"_blank\">Yan Luo</a>\n"
   ]
  },
  {
   "cell_type": "markdown",
   "id": "b7a61363-d24a-41b8-9ac9-f1dd8d870ee3",
   "metadata": {},
   "source": [
    "### Other Contributors\n",
    "\n",
    "Jeff Grossman\n"
   ]
  },
  {
   "cell_type": "markdown",
   "id": "7d96b165-fe67-40d6-babd-a414023a675f",
   "metadata": {},
   "source": [
    "## Change Log\n",
    "\n",
    "| Date (YYYY-MM-DD) | Version | Changed By | Change Description           |\n",
    "| ----------------- | ------- | ---------- | ---------------------------- |\n",
    "| 2021-04-08        | 1.0     | Yan        | Initial version created      |\n",
    "|                   |         |            |                              |\n",
    "|                   |         |            |                              |\n",
    "\n",
    "## <h3 align=\"center\"> © IBM Corporation 2021. All rights reserved. <h3/>\n"
   ]
  }
 ],
 "metadata": {
  "kernelspec": {
   "display_name": "R 4.2",
   "language": "R",
   "name": "r"
  },
  "language_info": {
   "codemirror_mode": "r",
   "file_extension": ".r",
   "mimetype": "text/x-r-source",
   "name": "R",
   "pygments_lexer": "r",
   "version": "4.2.0"
  }
 },
 "nbformat": 4,
 "nbformat_minor": 4
}
