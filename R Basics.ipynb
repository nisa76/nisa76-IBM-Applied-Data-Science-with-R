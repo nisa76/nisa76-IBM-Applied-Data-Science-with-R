{
 "cells": [
  {
   "cell_type": "markdown",
   "id": "0b1cd894",
   "metadata": {},
   "source": [
    "R Basics with Jupyter Notebook¶\n",
    "Objectives After completing this lab you will be able to:\n",
    "\n",
    "Understand the sample dataset Create variables and perform basic math operations Perform basic strings operations\n",
    "\n",
    "About the Dataset \n",
    "Which movie should you watch next?\n",
    "\n",
    "Let's say each of your friends tells you their favorite movies. You do some \n",
    "research on the movies and put it all into a table. Now you can begin exploring\n",
    "the dataset, and asking questions about the movies. For example, you can check\n",
    "if movies from some certain genres tend to get better ratings. You can check \n",
    "how the production cost for movies changes across years, and much more.\n",
    "\n",
    "Movies dataset\n",
    "\n",
    "The table gathered includes one row for each movie, with several columns for \n",
    "each movie characteristic:\n",
    "\n",
    "name - Name of the movie\n",
    "year - Year the movie was released\n",
    "length_min - Length of the movie (minutes)\n",
    "genre - Genre of the movie\n",
    "average_rating - Average rating on IMDB\n",
    "cost_millions - Movie's production cost (millions in USD)\n",
    "foreign - Is the movie foreign (1) or domestic (0)?\n",
    "age_restriction - Age restriction for the "
   ]
  },
  {
   "cell_type": "markdown",
   "id": "691171ea",
   "metadata": {},
   "source": [
    "Let's say you want to watch Fight Club and Star Wars: Episode IV (1977), back-to-back. Do you have enough time to watch both movies in 4 hours? Let's try using simple math in R.\n",
    "\n",
    "What is the total movie length for Fight Club and Star Wars (1977)?\n",
    "\n",
    "Fight Club: 139 min\n",
    "Star Wars: Episode IV: 121 min\n",
    "\n"
   ]
  },
  {
   "cell_type": "code",
   "execution_count": 1,
   "id": "3e18d5de",
   "metadata": {},
   "outputs": [
    {
     "data": {
      "text/html": [
       "260"
      ],
      "text/latex": [
       "260"
      ],
      "text/markdown": [
       "260"
      ],
      "text/plain": [
       "[1] 260"
      ]
     },
     "metadata": {},
     "output_type": "display_data"
    }
   ],
   "source": [
    "139+121"
   ]
  },
  {
   "cell_type": "markdown",
   "id": "7c4de822",
   "metadata": {},
   "source": [
    "What is 260 min in hours?"
   ]
  },
  {
   "cell_type": "code",
   "execution_count": 2,
   "id": "7e07ea82",
   "metadata": {},
   "outputs": [
    {
     "data": {
      "text/html": [
       "4.33333333333333"
      ],
      "text/latex": [
       "4.33333333333333"
      ],
      "text/markdown": [
       "4.33333333333333"
      ],
      "text/plain": [
       "[1] 4.333333"
      ]
     },
     "metadata": {},
     "output_type": "display_data"
    }
   ],
   "source": [
    "260/60"
   ]
  },
  {
   "cell_type": "markdown",
   "id": "53f7634e",
   "metadata": {},
   "source": [
    "Variables in R \n",
    "We can also store our output in variables, so we can use them later on. For example:"
   ]
  },
  {
   "cell_type": "code",
   "execution_count": 3,
   "id": "ca3e157f",
   "metadata": {},
   "outputs": [],
   "source": [
    "x <- 121+139"
   ]
  },
  {
   "cell_type": "markdown",
   "id": "ff0219fd",
   "metadata": {},
   "source": [
    "To return the value of x, we can simply run the variable as a command:"
   ]
  },
  {
   "cell_type": "code",
   "execution_count": 4,
   "id": "65f986fc",
   "metadata": {},
   "outputs": [
    {
     "data": {
      "text/html": [
       "260"
      ],
      "text/latex": [
       "260"
      ],
      "text/markdown": [
       "260"
      ],
      "text/plain": [
       "[1] 260"
      ]
     },
     "metadata": {},
     "output_type": "display_data"
    }
   ],
   "source": [
    "x"
   ]
  },
  {
   "cell_type": "markdown",
   "id": "a67b3e7f",
   "metadata": {},
   "source": [
    "You can check its variable type using class() function"
   ]
  },
  {
   "cell_type": "code",
   "execution_count": 5,
   "id": "02dc387c",
   "metadata": {},
   "outputs": [
    {
     "data": {
      "text/html": [
       "'numeric'"
      ],
      "text/latex": [
       "'numeric'"
      ],
      "text/markdown": [
       "'numeric'"
      ],
      "text/plain": [
       "[1] \"numeric\""
      ]
     },
     "metadata": {},
     "output_type": "display_data"
    }
   ],
   "source": [
    "class(x)"
   ]
  },
  {
   "cell_type": "markdown",
   "id": "b1665fbe",
   "metadata": {},
   "source": [
    "And cast the type of x to character"
   ]
  },
  {
   "cell_type": "code",
   "execution_count": 6,
   "id": "21b6f37f",
   "metadata": {},
   "outputs": [
    {
     "data": {
      "text/html": [
       "'character'"
      ],
      "text/latex": [
       "'character'"
      ],
      "text/markdown": [
       "'character'"
      ],
      "text/plain": [
       "[1] \"character\""
      ]
     },
     "metadata": {},
     "output_type": "display_data"
    }
   ],
   "source": [
    "x_char <- as.character(x)\n",
    "class(x_char)"
   ]
  },
  {
   "cell_type": "markdown",
   "id": "7d3a6052",
   "metadata": {},
   "source": [
    "And cast it back to numeric"
   ]
  },
  {
   "cell_type": "code",
   "execution_count": 7,
   "id": "ef531b51",
   "metadata": {},
   "outputs": [
    {
     "data": {
      "text/html": [
       "'numeric'"
      ],
      "text/latex": [
       "'numeric'"
      ],
      "text/markdown": [
       "'numeric'"
      ],
      "text/plain": [
       "[1] \"numeric\""
      ]
     },
     "metadata": {},
     "output_type": "display_data"
    }
   ],
   "source": [
    "x_num <- as.numeric(x_char)\n",
    "class(x_num)"
   ]
  },
  {
   "cell_type": "markdown",
   "id": "48bce06c",
   "metadata": {},
   "source": [
    "We can also perform operations on x and save the result to a new variable:"
   ]
  },
  {
   "cell_type": "code",
   "execution_count": 8,
   "id": "5deb0407",
   "metadata": {},
   "outputs": [
    {
     "data": {
      "text/html": [
       "4.33333333333333"
      ],
      "text/latex": [
       "4.33333333333333"
      ],
      "text/markdown": [
       "4.33333333333333"
      ],
      "text/plain": [
       "[1] 4.333333"
      ]
     },
     "metadata": {},
     "output_type": "display_data"
    }
   ],
   "source": [
    "y<- x/60\n",
    "y"
   ]
  },
  {
   "cell_type": "raw",
   "id": "f8aa3fe6",
   "metadata": {},
   "source": [
    "It's good practice to use meaningful variable names, so you don't have to\n",
    "keep track of what variable is what:"
   ]
  },
  {
   "cell_type": "code",
   "execution_count": 9,
   "id": "45add9a6",
   "metadata": {},
   "outputs": [
    {
     "data": {
      "text/html": [
       "260"
      ],
      "text/latex": [
       "260"
      ],
      "text/markdown": [
       "260"
      ],
      "text/plain": [
       "[1] 260"
      ]
     },
     "metadata": {},
     "output_type": "display_data"
    }
   ],
   "source": [
    "total <- 139+121\n",
    "total"
   ]
  },
  {
   "cell_type": "code",
   "execution_count": 10,
   "id": "cacd074a",
   "metadata": {},
   "outputs": [
    {
     "data": {
      "text/html": [
       "4.33333333333333"
      ],
      "text/latex": [
       "4.33333333333333"
      ],
      "text/markdown": [
       "4.33333333333333"
      ],
      "text/plain": [
       "[1] 4.333333"
      ]
     },
     "metadata": {},
     "output_type": "display_data"
    }
   ],
   "source": [
    "total_hrs <- total/60\n",
    "total_hrs"
   ]
  },
  {
   "cell_type": "markdown",
   "id": "35a2bb2b",
   "metadata": {},
   "source": [
    "You can put this all into a single expression, but remember to use round\n",
    "brackets to add together the movie lengths first, before dividing by 60."
   ]
  },
  {
   "cell_type": "code",
   "execution_count": 11,
   "id": "771b156b",
   "metadata": {},
   "outputs": [
    {
     "data": {
      "text/html": [
       "4.33333333333333"
      ],
      "text/latex": [
       "4.33333333333333"
      ],
      "text/markdown": [
       "4.33333333333333"
      ],
      "text/plain": [
       "[1] 4.333333"
      ]
     },
     "metadata": {},
     "output_type": "display_data"
    }
   ],
   "source": [
    "total_hr<- (139+121)/60\n",
    "total_hr"
   ]
  },
  {
   "cell_type": "markdown",
   "id": "d7df7934",
   "metadata": {},
   "source": [
    "Coding Exercise: in the code cell below, calculate how much longer is 139 minutes comparing to 121 minutes, in seconds"
   ]
  },
  {
   "cell_type": "code",
   "execution_count": 12,
   "id": "66553a17",
   "metadata": {},
   "outputs": [
    {
     "data": {
      "text/html": [
       "1080"
      ],
      "text/latex": [
       "1080"
      ],
      "text/markdown": [
       "1080"
      ],
      "text/plain": [
       "[1] 1080"
      ]
     },
     "metadata": {},
     "output_type": "display_data"
    }
   ],
   "source": [
    "diff_seconds <- (139-121)*60\n",
    "diff_seconds"
   ]
  },
  {
   "cell_type": "markdown",
   "id": "771ec05b",
   "metadata": {},
   "source": [
    "Strings in R\n",
    "R isn't just about numbers -- we can also have strings too. For example:"
   ]
  },
  {
   "cell_type": "code",
   "execution_count": 13,
   "id": "9014553c",
   "metadata": {},
   "outputs": [
    {
     "data": {
      "text/html": [
       "'Toy Story'"
      ],
      "text/latex": [
       "'Toy Story'"
      ],
      "text/markdown": [
       "'Toy Story'"
      ],
      "text/plain": [
       "[1] \"Toy Story\""
      ]
     },
     "metadata": {},
     "output_type": "display_data"
    }
   ],
   "source": [
    "movie <- \"Toy Story\"\n",
    "movie"
   ]
  },
  {
   "cell_type": "markdown",
   "id": "1d16f716",
   "metadata": {},
   "source": [
    "In R, you can identify character strings when they are wrapped with matching \n",
    "double (\") or single (') quotes.\n",
    "\n",
    "You can also check its class using class() function"
   ]
  },
  {
   "cell_type": "code",
   "execution_count": 14,
   "id": "256b4d27",
   "metadata": {},
   "outputs": [
    {
     "data": {
      "text/html": [
       "'character'"
      ],
      "text/latex": [
       "'character'"
      ],
      "text/markdown": [
       "'character'"
      ],
      "text/plain": [
       "[1] \"character\""
      ]
     },
     "metadata": {},
     "output_type": "display_data"
    }
   ],
   "source": [
    "class(movie)"
   ]
  },
  {
   "cell_type": "markdown",
   "id": "7b2a4f80",
   "metadata": {},
   "source": [
    "If you try to cast it into numeric, R will give you an error because \n",
    "'Toy Story' is not number"
   ]
  },
  {
   "cell_type": "code",
   "execution_count": 15,
   "id": "4e44fdd0",
   "metadata": {},
   "outputs": [
    {
     "name": "stderr",
     "output_type": "stream",
     "text": [
      "Warning message in eval(expr, envir, enclos):\n",
      "\"NAs introduced by coercion\""
     ]
    },
    {
     "data": {
      "text/html": [
       "&lt;NA&gt;"
      ],
      "text/latex": [
       "<NA>"
      ],
      "text/markdown": [
       "&lt;NA&gt;"
      ],
      "text/plain": [
       "[1] NA"
      ]
     },
     "metadata": {},
     "output_type": "display_data"
    }
   ],
   "source": [
    "as.numeric(movie)"
   ]
  },
  {
   "cell_type": "code",
   "execution_count": null,
   "id": "9caffe86",
   "metadata": {},
   "outputs": [],
   "source": []
  }
 ],
 "metadata": {
  "kernelspec": {
   "display_name": "R",
   "language": "R",
   "name": "ir"
  },
  "language_info": {
   "codemirror_mode": "r",
   "file_extension": ".r",
   "mimetype": "text/x-r-source",
   "name": "R",
   "pygments_lexer": "r",
   "version": "3.6.1"
  }
 },
 "nbformat": 4,
 "nbformat_minor": 5
}
